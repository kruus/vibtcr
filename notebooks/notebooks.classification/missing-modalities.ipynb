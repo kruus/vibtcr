{
 "cells": [
  {
   "cell_type": "markdown",
   "id": "5134b8c9",
   "metadata": {},
   "source": [
    "# MIssing modalities\n",
    "\n",
    "In this notebook, we investigate how AVIB behaves, when certain modalities are missing.\n",
    "We train on the alpha+beta set (peptide+CDR3b+CDR3a), and test removing CDR3a or CDR3b."
   ]
  },
  {
   "cell_type": "code",
   "execution_count": 1,
   "id": "59e239f0",
   "metadata": {},
   "outputs": [],
   "source": [
    "import pandas as pd\n",
    "import torch\n",
    "import numpy as np\n",
    "import random\n",
    "import os\n",
    "\n",
    "from vibtcr.dataset import TCRDataset\n",
    "from vibtcr.mvib.mvib import MVIB\n",
    "from vibtcr.mvib.mvib_trainer import TrainerMVIB\n",
    "\n",
    "from torch.utils.data.sampler import WeightedRandomSampler\n",
    "from torch.autograd import Variable\n",
    "\n",
    "from sklearn.model_selection import train_test_split\n",
    "from tqdm import tqdm"
   ]
  },
  {
   "cell_type": "code",
   "execution_count": 12,
   "id": "5ac089b9",
   "metadata": {},
   "outputs": [],
   "source": [
    "from sklearn.metrics import roc_auc_score, accuracy_score, precision_score, recall_score, f1_score, precision_recall_curve, auc\n",
    "import pandas as pd\n",
    "import torch\n",
    "\n",
    "metrics = [\n",
    "    'AUROC',\n",
    "    'Accuracy',\n",
    "    'F1',\n",
    "    'AUPR'\n",
    "]\n",
    "\n",
    "def pr_auc(y_true, y_prob):\n",
    "    precision, recall, thresholds = precision_recall_curve(y_true, y_prob)\n",
    "    pr_auc = auc(recall, precision)\n",
    "    return pr_auc\n",
    "\n",
    "def get_scores(y_true, y_prob, y_pred):\n",
    "    \"\"\"\n",
    "    Compute a df with all classification metrics and respective scores.\n",
    "    \"\"\"\n",
    "    \n",
    "    scores = [\n",
    "        roc_auc_score(y_true, y_prob),\n",
    "        accuracy_score(y_true, y_pred),\n",
    "        f1_score(y_true, y_pred),\n",
    "        pr_auc(y_true, y_prob)\n",
    "    ]\n",
    "    \n",
    "    df = pd.DataFrame(data={'score': scores, 'metrics': metrics})\n",
    "    return df"
   ]
  },
  {
   "cell_type": "code",
   "execution_count": 3,
   "id": "515d629e",
   "metadata": {},
   "outputs": [],
   "source": [
    "def set_random_seed(random_seed):\n",
    "    random.seed(random_seed)\n",
    "    np.random.seed(random_seed)\n",
    "    torch.manual_seed(random_seed)\n",
    "    torch.cuda.manual_seed(random_seed)\n",
    "    torch.cuda.manual_seed_all(random_seed)"
   ]
  },
  {
   "cell_type": "code",
   "execution_count": 1,
   "id": "b7227512",
   "metadata": {},
   "outputs": [],
   "source": [
    "import os\n",
    "login = os.getlogin( )\n",
    "DATA_BASE = f\"/home/{login}/Git/tcr/data/\"\n",
    "RESULTS_BASE = f\"/home/{login}/Git/tcr/notebooks/notebooks.classification/results/\"\n",
    "FIGURES_BASE = f\"/home/{login}/Git/tcr/notebooks/notebooks.classification/figures/\"\n"
   ]
  },
  {
   "cell_type": "code",
   "execution_count": 5,
   "id": "599fe993",
   "metadata": {},
   "outputs": [],
   "source": [
    "device = torch.device('cuda:0')\n",
    "\n",
    "batch_size = 4096\n",
    "epochs = 500\n",
    "lr = 1e-3\n",
    "\n",
    "z_dim = 150\n",
    "early_stopper_patience = 50\n",
    "monitor = 'auROC'\n",
    "lr_scheduler_param = 10\n",
    "joint_posterior = \"aoe\"\n",
    "\n",
    "beta = 1e-6"
   ]
  },
  {
   "cell_type": "markdown",
   "id": "21313546",
   "metadata": {},
   "source": [
    "# AVIB -  alpha+beta set - peptide+CDR3b+CDR3a"
   ]
  },
  {
   "cell_type": "code",
   "execution_count": 17,
   "id": "2a3e5f40",
   "metadata": {},
   "outputs": [
    {
     "name": "stderr",
     "output_type": "stream",
     "text": [
      "[VAL] Best epoch 78 | Best val score -0.936507 | DKL-prior 0.000482 | BCE 0.688316 | auROC 0.9365:  25%|██▌       | 127/500 [10:03<29:31,  4.75s/it]\n",
      "[VAL] Best epoch 52 | Best val score -0.935086 | DKL-prior 0.000434 | BCE 0.524329 | auROC 0.9351:  20%|██        | 101/500 [08:01<31:42,  4.77s/it]\n",
      "[VAL] Best epoch 69 | Best val score -0.937292 | DKL-prior 0.000507 | BCE 0.520637 | auROC 0.9373:  24%|██▎       | 118/500 [09:25<30:31,  4.80s/it]\n",
      "[VAL] Best epoch 78 | Best val score -0.939130 | DKL-prior 0.000517 | BCE 0.579990 | auROC 0.9391:  25%|██▌       | 127/500 [10:10<29:53,  4.81s/it]\n",
      "[VAL] Best epoch 84 | Best val score -0.942131 | DKL-prior 0.000558 | BCE 0.575624 | auROC 0.9421:  27%|██▋       | 133/500 [10:27<28:51,  4.72s/it]\n"
     ]
    }
   ],
   "source": [
    "df = pd.read_csv(DATA_BASE + 'alpha-beta-splits/alpha-beta.csv')\n",
    "\n",
    "for i in range(5):  # 5 independent train/test splits\n",
    "    set_random_seed(i)\n",
    "\n",
    "    df_train, df_test = train_test_split(df.copy(), test_size=0.2, random_state=i)\n",
    "    scaler = TCRDataset(df_train.copy(), torch.device(\"cpu\"), cdr3b_col='tcrb', cdr3a_col='tcra').scaler\n",
    "\n",
    "    ds_test = TCRDataset(df_test, torch.device(\"cpu\"), cdr3b_col='tcrb', cdr3a_col='tcra', scaler=scaler)\n",
    "\n",
    "    df_train, df_val = train_test_split(df_train, test_size=0.2, stratify=df_train.sign, random_state=i)\n",
    "        \n",
    "    # train loader with balanced sampling\n",
    "    ds_train = TCRDataset(df_train, device, cdr3b_col='tcrb', cdr3a_col='tcra', scaler=scaler)\n",
    "    class_count = np.array([df_train[df_train.sign == 0].shape[0], df_train[df_train.sign == 1].shape[0]])\n",
    "    weight = 1. / class_count\n",
    "    samples_weight = torch.tensor([weight[s] for s in df_train.sign])\n",
    "    sampler = WeightedRandomSampler(samples_weight, len(samples_weight))\n",
    "    train_loader = torch.utils.data.DataLoader(\n",
    "        ds_train,\n",
    "        batch_size=batch_size,\n",
    "        sampler=sampler\n",
    "    )\n",
    "    \n",
    "    # val loader with balanced sampling\n",
    "    ds_val = TCRDataset(df_val, device, cdr3b_col='tcrb', cdr3a_col='tcra', scaler=scaler)\n",
    "    class_count = np.array([df_val[df_val.sign == 0].shape[0], df_val[df_val.sign == 1].shape[0]])\n",
    "    weight = 1. / class_count\n",
    "    samples_weight = torch.tensor([weight[s] for s in df_val.sign])\n",
    "    sampler = WeightedRandomSampler(samples_weight, len(samples_weight))\n",
    "    val_loader = torch.utils.data.DataLoader(\n",
    "        ds_val,\n",
    "        batch_size=batch_size,\n",
    "        sampler=sampler\n",
    "    )\n",
    "\n",
    "    model = MVIB(z_dim=z_dim, device=device, joint_posterior=joint_posterior).to(device)\n",
    "\n",
    "    trainer = TrainerMVIB(\n",
    "        model,\n",
    "        epochs=epochs,\n",
    "        lr=lr,\n",
    "        beta=beta,\n",
    "        checkpoint_dir=\".\",\n",
    "        mode=\"trimodal\",\n",
    "        lr_scheduler_param=lr_scheduler_param\n",
    "    )\n",
    "    checkpoint = trainer.train(train_loader, val_loader, early_stopper_patience, monitor)    \n",
    "    \n",
    "    # test - missing beta\n",
    "    model = MVIB.from_checkpoint(checkpoint, torch.device(\"cpu\"))\n",
    "    pred = model.classify(pep=ds_test.pep, cdr3b=None, cdr3a=ds_test.cdr3a)\n",
    "    pred = pred.detach().numpy()\n",
    "    df_test['prediction_'+str(i)] = pred.squeeze().tolist()\n",
    "\n",
    "    # save results for further analysis\n",
    "    df_test.to_csv(\n",
    "        RESULTS_BASE + f\"mvib.missing-b.{joint_posterior}.rep-{i}.csv\",\n",
    "        index=False\n",
    "    )\n",
    "    \n",
    "    # test - missing alpha\n",
    "    model = MVIB.from_checkpoint(checkpoint, torch.device(\"cpu\"))\n",
    "    pred = model.classify(pep=ds_test.pep, cdr3b=ds_test.cdr3b, cdr3a=None)\n",
    "    pred = pred.detach().numpy()\n",
    "    df_test['prediction_'+str(i)] = pred.squeeze().tolist()\n",
    "\n",
    "    # save results for further analysis\n",
    "    df_test.to_csv(\n",
    "        RESULTS_BASE + f\"mvib.missing-a.{joint_posterior}.rep-{i}.csv\",\n",
    "        index=False\n",
    "    )"
   ]
  },
  {
   "cell_type": "markdown",
   "id": "090e2457",
   "metadata": {},
   "source": [
    "# MVIB -  alpha+beta set - peptide+CDR3b+CDR3a"
   ]
  },
  {
   "cell_type": "code",
   "execution_count": 18,
   "id": "01064063",
   "metadata": {},
   "outputs": [],
   "source": [
    "joint_posterior = \"poe\""
   ]
  },
  {
   "cell_type": "code",
   "execution_count": 19,
   "id": "7ba9af04",
   "metadata": {},
   "outputs": [
    {
     "name": "stderr",
     "output_type": "stream",
     "text": [
      "[VAL] Best epoch 80 | Best val score -0.935433 | DKL-prior 0.000380 | BCE 0.560748 | auROC 0.9354:  26%|██▌       | 129/500 [08:44<25:08,  4.07s/it]\n",
      "[VAL] Best epoch 119 | Best val score -0.935176 | DKL-prior 0.000353 | BCE 0.782173 | auROC 0.9352:  34%|███▎      | 168/500 [11:31<22:46,  4.12s/it]\n",
      "[VAL] Best epoch 67 | Best val score -0.937880 | DKL-prior 0.000383 | BCE 0.468771 | auROC 0.9379:  23%|██▎       | 116/500 [07:50<25:56,  4.05s/it]\n",
      "[VAL] Best epoch 76 | Best val score -0.935550 | DKL-prior 0.000373 | BCE 0.510521 | auROC 0.9356:  25%|██▌       | 125/500 [08:27<25:22,  4.06s/it]\n",
      "[VAL] Best epoch 71 | Best val score -0.940491 | DKL-prior 0.000378 | BCE 0.470944 | auROC 0.9405:  24%|██▍       | 120/500 [08:05<25:38,  4.05s/it]\n"
     ]
    }
   ],
   "source": [
    "df = pd.read_csv(DATA_BASE + 'alpha-beta-splits/alpha-beta.csv')\n",
    "\n",
    "for i in range(5):  # 5 independent train/test splits\n",
    "    set_random_seed(i)\n",
    "\n",
    "    df_train, df_test = train_test_split(df.copy(), test_size=0.2, random_state=i)\n",
    "    scaler = TCRDataset(df_train.copy(), torch.device(\"cpu\"), cdr3b_col='tcrb', cdr3a_col='tcra').scaler\n",
    "\n",
    "    ds_test = TCRDataset(df_test, torch.device(\"cpu\"), cdr3b_col='tcrb', cdr3a_col='tcra', scaler=scaler)\n",
    "\n",
    "    df_train, df_val = train_test_split(df_train, test_size=0.2, stratify=df_train.sign, random_state=i)\n",
    "        \n",
    "    # train loader with balanced sampling\n",
    "    ds_train = TCRDataset(df_train, device, cdr3b_col='tcrb', cdr3a_col='tcra', scaler=scaler)\n",
    "    class_count = np.array([df_train[df_train.sign == 0].shape[0], df_train[df_train.sign == 1].shape[0]])\n",
    "    weight = 1. / class_count\n",
    "    samples_weight = torch.tensor([weight[s] for s in df_train.sign])\n",
    "    sampler = WeightedRandomSampler(samples_weight, len(samples_weight))\n",
    "    train_loader = torch.utils.data.DataLoader(\n",
    "        ds_train,\n",
    "        batch_size=batch_size,\n",
    "        sampler=sampler\n",
    "    )\n",
    "    \n",
    "    # val loader with balanced sampling\n",
    "    ds_val = TCRDataset(df_val, device, cdr3b_col='tcrb', cdr3a_col='tcra', scaler=scaler)\n",
    "    class_count = np.array([df_val[df_val.sign == 0].shape[0], df_val[df_val.sign == 1].shape[0]])\n",
    "    weight = 1. / class_count\n",
    "    samples_weight = torch.tensor([weight[s] for s in df_val.sign])\n",
    "    sampler = WeightedRandomSampler(samples_weight, len(samples_weight))\n",
    "    val_loader = torch.utils.data.DataLoader(\n",
    "        ds_val,\n",
    "        batch_size=batch_size,\n",
    "        sampler=sampler\n",
    "    )\n",
    "\n",
    "    model = MVIB(z_dim=z_dim, device=device, joint_posterior=joint_posterior).to(device)\n",
    "\n",
    "    trainer = TrainerMVIB(\n",
    "        model,\n",
    "        epochs=epochs,\n",
    "        lr=lr,\n",
    "        beta=beta,\n",
    "        checkpoint_dir=\".\",\n",
    "        mode=\"trimodal\",\n",
    "        lr_scheduler_param=lr_scheduler_param\n",
    "    )\n",
    "    checkpoint = trainer.train(train_loader, val_loader, early_stopper_patience, monitor)    \n",
    "    \n",
    "    # test - missing beta\n",
    "    model = MVIB.from_checkpoint(checkpoint, torch.device(\"cpu\"))\n",
    "    pred = model.classify(pep=ds_test.pep, cdr3b=None, cdr3a=ds_test.cdr3a)\n",
    "    pred = pred.detach().numpy()\n",
    "    df_test['prediction_'+str(i)] = pred.squeeze().tolist()\n",
    "\n",
    "    # save results for further analysis\n",
    "    df_test.to_csv(\n",
    "        RESULTS_BASE + f\"mvib.missing-b.{joint_posterior}.rep-{i}.csv\",\n",
    "        index=False\n",
    "    )\n",
    "    \n",
    "    # test - missing alpha\n",
    "    model = MVIB.from_checkpoint(checkpoint, torch.device(\"cpu\"))\n",
    "    pred = model.classify(pep=ds_test.pep, cdr3b=ds_test.cdr3b, cdr3a=None)\n",
    "    pred = pred.detach().numpy()\n",
    "    df_test['prediction_'+str(i)] = pred.squeeze().tolist()\n",
    "\n",
    "    # save results for further analysis\n",
    "    df_test.to_csv(\n",
    "        RESULTS_BASE + f\"mvib.missing-a.{joint_posterior}.rep-{i}.csv\",\n",
    "        index=False\n",
    "    )"
   ]
  },
  {
   "cell_type": "code",
   "execution_count": 14,
   "id": "0e827315",
   "metadata": {},
   "outputs": [],
   "source": [
    "predictions_files = [\n",
    "    ('Train: PEP+α+β | Test: PEP+α+β', [pd.read_csv(RESULTS_BASE + f\"mvib.trimodal.aoe.alpha+beta-only.rep-{i}.csv\") for i in range(5)]),\n",
    "    \n",
    "    ('Train: PEP+α+β | Test: PEP+α', [pd.read_csv(RESULTS_BASE + f\"mvib.missing-b.aoe.rep-{i}.csv\") for i in range(5)]),\n",
    "    ('Train: PEP+α | Test: PEP+α', [pd.read_csv(RESULTS_BASE + f\"mvib.bimodal-alpha.aoe.alpha+beta-only.rep-{i}.csv\") for i in range(5)]),\n",
    "    \n",
    "    ('Train: PEP+α+β | Test: PEP+β', [pd.read_csv(RESULTS_BASE + f\"mvib.missing-a.aoe.rep-{i}.csv\") for i in range(5)]),\n",
    "    ('Train: PEP+β | Test: PEP+β', [pd.read_csv(RESULTS_BASE + f\"mvib.bimodal.aoe.alpha+beta-only.rep-{i}.csv\") for i in range(5)]),\n",
    "]\n"
   ]
  },
  {
   "cell_type": "code",
   "execution_count": 20,
   "id": "c46a5f9d",
   "metadata": {},
   "outputs": [
    {
     "name": "stderr",
     "output_type": "stream",
     "text": [
      "100%|██████████| 5/5 [00:00<00:00,  9.95it/s]\n"
     ]
    },
    {
     "data": {
      "image/png": "[encoded data removed]",
      "text/plain": [
       "<Figure size 828x432 with 1 Axes>"
      ]
     },
     "metadata": {
      "needs_background": "light"
     },
     "output_type": "display_data"
    }
   ],
   "source": [
    "import seaborn as sns\n",
    "import matplotlib.pyplot as plt\n",
    "SMALL_SIZE = 16\n",
    "MEDIUM_SIZE = 18\n",
    "BIGGER_SIZE = 24\n",
    "\n",
    "plt.rc('font', size=SMALL_SIZE)          # controls default text sizes\n",
    "plt.rc('axes', titlesize=SMALL_SIZE)     # fontsize of the axes title\n",
    "plt.rc('axes', labelsize=MEDIUM_SIZE)    # fontsize of the x and y labels\n",
    "plt.rc('xtick', labelsize=SMALL_SIZE)    # fontsize of the tick labels\n",
    "plt.rc('ytick', labelsize=SMALL_SIZE)    # fontsize of the tick labels\n",
    "plt.rc('legend', fontsize=SMALL_SIZE)    # legend fontsize\n",
    "plt.rc('figure', titlesize=BIGGER_SIZE)  # fontsize of the figure title\n",
    "\n",
    "plt.rc('axes', axisbelow=True)\n",
    "\n",
    "results = []\n",
    "\n",
    "for i in tqdm(range(5)):\n",
    "    for predictions_file in predictions_files:\n",
    "        prediction_df = predictions_file[1][i]\n",
    "        if f'prediction_{i}' in prediction_df.columns:\n",
    "            scores_df = get_scores(\n",
    "                y_true=prediction_df['sign'].to_numpy(), \n",
    "                y_prob=prediction_df[f'prediction_{i}'].to_numpy(),\n",
    "                y_pred=prediction_df[f'prediction_{i}'].to_numpy().round(),\n",
    "            )\n",
    "            scores_df['Model'] = predictions_file[0]\n",
    "            results.append(scores_df)\n",
    "        \n",
    "results_df = pd.concat(results).rename(columns={'metrics': 'Metrics', 'score': 'Score'})\n",
    "\n",
    "plt.rcParams['figure.figsize'] = [11.5, 6]\n",
    "ax = sns.barplot(\n",
    "    x=\"Metrics\",\n",
    "    y=\"Score\", \n",
    "    hue=\"Model\", \n",
    "    data=results_df,\n",
    "    palette=sns.color_palette(\"magma\", len(predictions_files))\n",
    ")\n",
    "# ax.set_title('')\n",
    "# ax.legend(loc='center left', bbox_to_anchor=(1, 0.5))\n",
    "ax.legend(loc='best')\n",
    "legend = plt.legend(frameon = 1)\n",
    "frame = legend.get_frame()\n",
    "frame.set_facecolor('white')\n",
    "ax.grid(axis='y')\n",
    "ax.set_ylim([0.4, 1.01])\n",
    "\n",
    "plt.savefig(FIGURES_BASE + \"missing-modalities.svg\", format='svg', dpi=300, bbox_inches='tight')\n",
    "plt.savefig(FIGURES_BASE + \"missing-modalities.png\", format='png', dpi=300, bbox_inches='tight')"
   ]
  },
  {
   "cell_type": "code",
   "execution_count": null,
   "id": "f8e05327",
   "metadata": {},
   "outputs": [],
   "source": []
  }
 ],
 "metadata": {
  "kernelspec": {
   "display_name": "Python 3",
   "language": "python",
   "name": "python3"
  },
  "language_info": {
   "codemirror_mode": {
    "name": "ipython",
    "version": 3
   },
   "file_extension": ".py",
   "mimetype": "text/x-python",
   "name": "python",
   "nbconvert_exporter": "python",
   "pygments_lexer": "ipython3",
   "version": "3.6.13"
  }
 },
 "nbformat": 4,
 "nbformat_minor": 5
}
