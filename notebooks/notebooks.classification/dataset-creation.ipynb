{
 "cells": [
  {
   "cell_type": "markdown",
   "metadata": {},
   "source": [
    "## Dataset creation\n",
    "\n",
    "* create a training set with all (peptide, CDR3a, CDR3b) publicly available samples\n",
    "\n",
    "* create a test set with all (peptide, CDR3b) publicly available samples\n"
   ]
  },
  {
   "cell_type": "code",
   "execution_count": 1,
   "metadata": {},
   "outputs": [],
   "source": [
    "import pandas as pd\n",
    "import os\n",
    "login = os.getlogin( )\n",
    "BASE = f\"/home/{login}/Git/tcr/data/\"\n",
    "FIGURE_BASE = f\"/home/{login}/Git/tcr/notebooks/notebooks.classification/figures/\""
   ]
  },
  {
   "cell_type": "markdown",
   "metadata": {},
   "source": [
    "# Mcpas (from ERGO II data)"
   ]
  },
  {
   "cell_type": "code",
   "execution_count": 2,
   "metadata": {},
   "outputs": [],
   "source": [
    "import pickle as p\n",
    "\n",
    "with open(BASE + \"ergo2-paper/mcpas_train_samples.pickle\", \"rb\") as f:\n",
    "    mcpas_train = pd.DataFrame(p.load(f))\n",
    "\n",
    "    \n",
    "with open(BASE + \"ergo2-paper/mcpas_test_samples.pickle\", \"rb\") as f:\n",
    "    mcpas_test = pd.DataFrame(p.load(f))\n",
    "\n",
    "mcpas = pd.concat([mcpas_train, mcpas_test]).reset_index(drop=True)"
   ]
  },
  {
   "cell_type": "code",
   "execution_count": 3,
   "metadata": {},
   "outputs": [
    {
     "name": "stdout",
     "output_type": "stream",
     "text": [
      "40688\n",
      "19022\n"
     ]
    }
   ],
   "source": [
    "# we drop duplicates with `keep=False` because we want to discard samples where binding is\n",
    "# determined by features which we do not consider e.g. va, ja, vb, jb, t_cell_type, mhc\n",
    "mcpas_b = mcpas[mcpas[\"tcra\"] == \"UNK\"][[\"tcrb\", \"peptide\", \"sign\"]].drop_duplicates(subset=[\"tcrb\", \"peptide\"], keep=False)\n",
    "print(len(mcpas_b))\n",
    "mcpas_ab = mcpas[mcpas[\"tcra\"] != \"UNK\"][[\"tcra\", \"tcrb\", \"peptide\", \"sign\"]].drop_duplicates(subset=[\"tcra\", \"tcrb\", \"peptide\"], keep=False)\n",
    "print(len(mcpas_ab))"
   ]
  },
  {
   "cell_type": "markdown",
   "metadata": {},
   "source": [
    "# Vdjdb (from ERGO II data)"
   ]
  },
  {
   "cell_type": "code",
   "execution_count": 4,
   "metadata": {},
   "outputs": [],
   "source": [
    "import pickle as p\n",
    "\n",
    "with open(BASE + \"ergo2-paper/vdjdb_train_samples.pickle\", \"rb\") as f:\n",
    "    vdjdb_train = pd.DataFrame(p.load(f))\n",
    "\n",
    "    \n",
    "with open(BASE + \"ergo2-paper/vdjdb_test_samples.pickle\", \"rb\") as f:\n",
    "    vdjdb_test = pd.DataFrame(p.load(f))\n",
    "\n",
    "vdjdb = pd.concat([vdjdb_train, vdjdb_test]).reset_index(drop=True)"
   ]
  },
  {
   "cell_type": "code",
   "execution_count": 5,
   "metadata": {},
   "outputs": [
    {
     "name": "stdout",
     "output_type": "stream",
     "text": [
      "60741\n",
      "74930\n"
     ]
    }
   ],
   "source": [
    "# we drop duplicates with `keep=False` because we want to discard samples where binding is\n",
    "# determined by features which we do not consider e.g. va, ja, vb, jb, t_cell_type, mhc\n",
    "vdjdb_b = vdjdb[vdjdb[\"tcra\"] == \"UNK\"][[\"tcrb\", \"peptide\", \"sign\"]].drop_duplicates(subset=[\"tcrb\", \"peptide\"], keep=False)\n",
    "print(len(vdjdb_b))\n",
    "vdjdb_ab = vdjdb[vdjdb[\"tcra\"] != \"UNK\"][[\"tcra\", \"tcrb\", \"peptide\", \"sign\"]].drop_duplicates(subset=[\"tcra\", \"tcrb\", \"peptide\"], keep=False)\n",
    "print(len(vdjdb_ab))"
   ]
  },
  {
   "cell_type": "markdown",
   "metadata": {},
   "source": [
    "# MIRA evaluation set (from NetTCR2 data)"
   ]
  },
  {
   "cell_type": "code",
   "execution_count": 6,
   "metadata": {},
   "outputs": [
    {
     "name": "stdout",
     "output_type": "stream",
     "text": [
      "1152\n"
     ]
    }
   ],
   "source": [
    "mira_b = pd.read_csv(BASE + \"nettcr2-paper/mira_eval_threshold100.csv\", sep=\";\")\n",
    "mira_b = mira_b.rename(columns={\"CDR3\": \"tcrb\", \"binder\": \"sign\"})\n",
    "print(len(mira_b))"
   ]
  },
  {
   "cell_type": "markdown",
   "metadata": {},
   "source": [
    "# IEDB + Vdjdb (alpha+beta from NetTCR2 data)"
   ]
  },
  {
   "cell_type": "code",
   "execution_count": 7,
   "metadata": {},
   "outputs": [
    {
     "name": "stdout",
     "output_type": "stream",
     "text": [
      "49392\n",
      "28755\n"
     ]
    }
   ],
   "source": [
    "csv_files = [\n",
    "    \"nettcr2-paper/train_ab_95_alpha.csv\",\n",
    "    \"nettcr2-paper/train_ab_95_alphabeta.csv\",\n",
    "    \"nettcr2-paper/train_ab_95_beta.csv\"\n",
    "]\n",
    "\n",
    "iedb_vdjdb_ab = pd.concat([\n",
    "    pd.read_csv(BASE + csv)\n",
    "    for csv in csv_files\n",
    "]).reset_index(drop=True)\n",
    "\n",
    "iedb_vdjdb_ab = iedb_vdjdb_ab[[\"CDR3a\", \"CDR3b\", \"peptide\", \"binder\"]]\n",
    "iedb_vdjdb_ab = iedb_vdjdb_ab.rename(columns={\"CDR3a\": \"tcra\", \"CDR3b\": \"tcrb\", \"binder\": \"sign\"})\n",
    "print(len(iedb_vdjdb_ab))\n",
    "iedb_vdjdb_ab = iedb_vdjdb_ab.drop_duplicates(subset=[\"tcra\", \"tcrb\", \"peptide\"], keep='first')\n",
    "print(len(iedb_vdjdb_ab))"
   ]
  },
  {
   "cell_type": "markdown",
   "metadata": {},
   "source": [
    "# IEDB (beta only from NetTCR2 data)"
   ]
  },
  {
   "cell_type": "code",
   "execution_count": 8,
   "metadata": {},
   "outputs": [
    {
     "name": "stdout",
     "output_type": "stream",
     "text": [
      "55224\n"
     ]
    }
   ],
   "source": [
    "iedb_b = pd.read_csv(BASE + \"nettcr2-paper/train_beta_99.csv\", sep=\";\")\n",
    "iedb_b = iedb_b[[\"CDR3\", \"peptide\", \"binder\"]]\n",
    "iedb_b = iedb_b.rename(columns={\"CDR3\": \"tcrb\", \"binder\": \"sign\"})\n",
    "print(len(iedb_b))"
   ]
  },
  {
   "cell_type": "markdown",
   "metadata": {},
   "source": [
    "# Merging of the datasets"
   ]
  },
  {
   "cell_type": "code",
   "execution_count": 9,
   "metadata": {},
   "outputs": [
    {
     "name": "stdout",
     "output_type": "stream",
     "text": [
      "122707\n",
      "117753\n"
     ]
    }
   ],
   "source": [
    "ab_df = pd.concat([\n",
    "    mcpas_ab,\n",
    "    vdjdb_ab,\n",
    "    iedb_vdjdb_ab,\n",
    "]).reset_index(drop=True)\n",
    "\n",
    "print(len(ab_df))\n",
    "# we drop duplicates with `keep=False` because we want to discard samples where there is \n",
    "# disagreement about the ground truth label from different datasets \n",
    "ab_df = ab_df.drop_duplicates(subset=[\"tcra\", \"tcrb\", \"peptide\"], keep=False)\n",
    "print(len(ab_df))"
   ]
  },
  {
   "cell_type": "code",
   "execution_count": 10,
   "metadata": {},
   "outputs": [
    {
     "name": "stdout",
     "output_type": "stream",
     "text": [
      "157805\n",
      "153613\n"
     ]
    }
   ],
   "source": [
    "b_df = pd.concat([\n",
    "    mcpas_b,\n",
    "    vdjdb_b,\n",
    "    mira_b,\n",
    "    iedb_b\n",
    "]).reset_index(drop=True)\n",
    "b_df['tcra'] = \"unknown\"\n",
    "\n",
    "print(len(b_df))\n",
    "# we drop duplicates with `keep=False` because we want to discard samples where there is \n",
    "# disagreement about the ground truth label from different datasets \n",
    "b_df = b_df.drop_duplicates(subset=[\"tcrb\", \"peptide\"], keep=False)\n",
    "print(len(b_df))"
   ]
  },
  {
   "cell_type": "code",
   "execution_count": 11,
   "metadata": {},
   "outputs": [
    {
     "data": {
      "text/plain": [
       "271366"
      ]
     },
     "execution_count": 11,
     "metadata": {},
     "output_type": "execute_result"
    }
   ],
   "source": [
    "117753 + 153613\n"
   ]
  },
  {
   "cell_type": "markdown",
   "metadata": {},
   "source": [
    "# Ensure test samples are not in the training set"
   ]
  },
  {
   "cell_type": "code",
   "execution_count": 12,
   "metadata": {},
   "outputs": [
    {
     "name": "stdout",
     "output_type": "stream",
     "text": [
      "271366\n",
      "254310\n"
     ]
    }
   ],
   "source": [
    "concat_df = pd.concat([ab_df, b_df])\n",
    "print(len(concat_df))\n",
    "concat_df = concat_df.drop_duplicates(subset=[\"tcrb\", \"peptide\"], keep=\"first\")\n",
    "print(len(concat_df))"
   ]
  },
  {
   "cell_type": "code",
   "execution_count": 13,
   "metadata": {},
   "outputs": [
    {
     "name": "stdout",
     "output_type": "stream",
     "text": [
      "alpha+beta samples:  107775\n",
      "beta samples:  146535\n",
      "sum:  254310\n"
     ]
    }
   ],
   "source": [
    "ab_df = concat_df[concat_df[\"tcra\"] != \"unknown\"]\n",
    "print(\"alpha+beta samples: \", len(ab_df))\n",
    "b_df = concat_df[concat_df[\"tcra\"] == \"unknown\"]\n",
    "print(\"beta samples: \", len(b_df))\n",
    "print(\"sum: \", len(ab_df)+len(b_df))"
   ]
  },
  {
   "cell_type": "code",
   "execution_count": 14,
   "metadata": {},
   "outputs": [],
   "source": [
    "ab_df.to_csv(BASE + \"alpha-beta-splits/alpha-beta.csv\", index=False)\n",
    "b_df.to_csv(BASE + \"alpha-beta-splits/beta.csv\", index=False)"
   ]
  },
  {
   "cell_type": "markdown",
   "metadata": {},
   "source": [
    "# Data exploration"
   ]
  },
  {
   "cell_type": "markdown",
   "metadata": {},
   "source": [
    "### alpha+beta class distribution"
   ]
  },
  {
   "cell_type": "code",
   "execution_count": 15,
   "metadata": {},
   "outputs": [
    {
     "data": {
      "image/png": "[encoded data removed]",
      "text/plain": [
       "<Figure size 360x360 with 1 Axes>"
      ]
     },
     "metadata": {
      "needs_background": "light"
     },
     "output_type": "display_data"
    }
   ],
   "source": [
    "import matplotlib.pyplot as plt\n",
    "plt.rcParams[\"figure.figsize\"] = (5,5)\n",
    "\n",
    "fig, ax = plt.subplots()\n",
    "ab_df.hist(ax=ax, zorder=3)\n",
    "ax.set_xticks([0,1])\n",
    "ax.grid(axis='y')\n",
    "\n",
    "plt.grid(b=None)\n",
    "plt.ylabel('Samples count')\n",
    "plt.xlabel('Classes')\n",
    "plt.title('Class distribution | α+β set')\n",
    "fig.savefig(FIGURE_BASE + \"class-distribution.alpha-beta.png\", bbox_inches='tight', dpi=300)\n",
    "fig.savefig(FIGURE_BASE + \"class-distribution.alpha-beta.svg\", bbox_inches='tight', dpi=300)"
   ]
  },
  {
   "cell_type": "markdown",
   "metadata": {},
   "source": [
    "### beta class distribution"
   ]
  },
  {
   "cell_type": "code",
   "execution_count": 16,
   "metadata": {},
   "outputs": [
    {
     "data": {
      "image/png": "[encoded data removed]",
      "text/plain": [
       "<Figure size 360x360 with 1 Axes>"
      ]
     },
     "metadata": {
      "needs_background": "light"
     },
     "output_type": "display_data"
    }
   ],
   "source": [
    "import matplotlib.pyplot as plt\n",
    "fig, ax = plt.subplots()\n",
    "b_df.hist(ax=ax, zorder=3)\n",
    "ax.set_xticks([0,1])\n",
    "ax.grid(axis='y')\n",
    "plt.grid(b=None)\n",
    "plt.ylabel('Samples count')\n",
    "plt.xlabel('Classes')\n",
    "plt.title('Class distribution | β set')\n",
    "fig.savefig(FIGURE_BASE + \"class-distribution.beta.png\", bbox_inches='tight', dpi=300)\n",
    "fig.savefig(FIGURE_BASE + \"class-distribution.beta.svg\", bbox_inches='tight', dpi=300)"
   ]
  },
  {
   "cell_type": "markdown",
   "metadata": {},
   "source": [
    "### CDR3α distribution analysis"
   ]
  },
  {
   "cell_type": "code",
   "execution_count": 17,
   "metadata": {},
   "outputs": [],
   "source": [
    "import matplotlib.pyplot as plt\n",
    "plt.rcParams[\"figure.figsize\"] = (14,3)\n",
    "plt.rc('axes', axisbelow=True)\n",
    "\n",
    "SMALL_SIZE = 16\n",
    "MEDIUM_SIZE = 18\n",
    "BIGGER_SIZE = 24\n",
    "\n",
    "plt.rc('font', size=SMALL_SIZE)          # controls default text sizes\n",
    "plt.rc('axes', titlesize=SMALL_SIZE)     # fontsize of the axes title\n",
    "plt.rc('axes', labelsize=MEDIUM_SIZE)    # fontsize of the x and y labels\n",
    "plt.rc('xtick', labelsize=SMALL_SIZE)    # fontsize of the tick labels\n",
    "plt.rc('ytick', labelsize=SMALL_SIZE)    # fontsize of the tick labels\n",
    "plt.rc('legend', fontsize=SMALL_SIZE)    # legend fontsize\n",
    "plt.rc('figure', titlesize=BIGGER_SIZE)  # fontsize of the figure title\n",
    "\n",
    "tcra = set(ab_df.tcra.unique())"
   ]
  },
  {
   "cell_type": "code",
   "execution_count": 18,
   "metadata": {},
   "outputs": [],
   "source": [
    "tcra_count_map = {seq: 0 for seq in tcra}\n",
    "tmp = ab_df.tcra.value_counts().to_dict()\n",
    "for i in tmp.keys():\n",
    "    tcra_count_map[i] += tmp[i]\n",
    "\n",
    "tcra_count_map = {k: v for k, v in sorted(tcra_count_map.items(), key=lambda item: item[1])}\n",
    "seq_id_map = {seq: i for i, seq in enumerate(tcra_count_map.keys())}\n",
    "tcra_count_map = {seq_id_map[seq]: count for seq, count in tcra_count_map.items()}"
   ]
  },
  {
   "cell_type": "code",
   "execution_count": 19,
   "metadata": {},
   "outputs": [
    {
     "data": {
      "image/png": "[encoded data removed]",
      "text/plain": [
       "<Figure size 1008x216 with 1 Axes>"
      ]
     },
     "metadata": {
      "needs_background": "light"
     },
     "output_type": "display_data"
    }
   ],
   "source": [
    "fig, ax = plt.subplots()\n",
    "plt.bar(tcra_count_map.keys(), tcra_count_map.values(), label=\"α+β set\", color=\"darkorange\", alpha=0.5,width=1.0)\n",
    "\n",
    "ax.grid(axis='y')\n",
    "plt.ylabel ('Count')\n",
    "plt.xlabel ('CDR3α (unique seqeunces)')\n",
    "plt.legend(loc=\"upper left\")\n",
    "plt.yscale('log',base=2)\n",
    "plt.title('CDR3α distribution')\n",
    "fig.savefig(FIGURE_BASE + \"alpha-distribution.png\", bbox_inches='tight', dpi=300)\n",
    "fig.savefig(FIGURE_BASE + \"alpha-distribution.svg\", bbox_inches='tight', dpi=300)"
   ]
  },
  {
   "cell_type": "markdown",
   "metadata": {},
   "source": [
    "### CDR3β distribution analysis"
   ]
  },
  {
   "cell_type": "code",
   "execution_count": 20,
   "metadata": {},
   "outputs": [],
   "source": [
    "import matplotlib.pyplot as plt\n",
    "plt.rcParams[\"figure.figsize\"] = (14,3)\n",
    "plt.rc('axes', axisbelow=True)\n",
    "SMALL_SIZE = 16\n",
    "MEDIUM_SIZE = 18\n",
    "BIGGER_SIZE = 24\n",
    "\n",
    "plt.rc('font', size=SMALL_SIZE)          # controls default text sizes\n",
    "plt.rc('axes', titlesize=SMALL_SIZE)     # fontsize of the axes title\n",
    "plt.rc('axes', labelsize=MEDIUM_SIZE)    # fontsize of the x and y labels\n",
    "plt.rc('xtick', labelsize=SMALL_SIZE)    # fontsize of the tick labels\n",
    "plt.rc('ytick', labelsize=SMALL_SIZE)    # fontsize of the tick labels\n",
    "plt.rc('legend', fontsize=SMALL_SIZE)    # legend fontsize\n",
    "plt.rc('figure', titlesize=BIGGER_SIZE)  # fontsize of the figure title\n",
    "tcrb = set(ab_df.tcrb.unique()).union(set(b_df.tcrb.unique()))"
   ]
  },
  {
   "cell_type": "code",
   "execution_count": 21,
   "metadata": {},
   "outputs": [],
   "source": [
    "tcrb_count_map_ab = {seq: 0 for seq in tcrb}\n",
    "tmp = ab_df.tcrb.value_counts().to_dict()\n",
    "for i in tmp.keys():\n",
    "    tcrb_count_map_ab[i] += tmp[i]\n",
    "\n",
    "\n",
    "tcrb_count_map_ab = {k: v for k, v in sorted(tcrb_count_map_ab.items(), key=lambda item: item[1])}\n",
    "seq_id_map = {seq: i for i, seq in enumerate(tcrb_count_map_ab.keys())}\n",
    "tcrb_count_map_ab = {seq_id_map[seq]: count for seq, count in tcrb_count_map_ab.items()}"
   ]
  },
  {
   "cell_type": "code",
   "execution_count": 22,
   "metadata": {},
   "outputs": [],
   "source": [
    "tcrb_count_map_b = {seq: 0 for seq in tcrb}\n",
    "tmp = b_df.tcrb.value_counts().to_dict()\n",
    "for i in tmp.keys():\n",
    "    tcrb_count_map_b[i] += tmp[i]\n",
    "\n",
    "\n",
    "tcrb_count_map_b = {k: v for k, v in sorted(tcrb_count_map_b.items(), key=lambda item: item[1])}\n",
    "tcrb_count_map_b = {seq_id_map[seq]: count for seq, count in tcrb_count_map_b.items()}"
   ]
  },
  {
   "cell_type": "code",
   "execution_count": 23,
   "metadata": {},
   "outputs": [],
   "source": [
    "for i in tcrb_count_map_ab.keys():\n",
    "    frist_non_zero_index_of_ab = i\n",
    "    first_non_zero_ab = tcrb_count_map_ab[i]\n",
    "    if first_non_zero_ab > 0:\n",
    "        break"
   ]
  },
  {
   "cell_type": "code",
   "execution_count": 24,
   "metadata": {},
   "outputs": [
    {
     "data": {
      "text/plain": [
       "59932"
      ]
     },
     "execution_count": 24,
     "metadata": {},
     "output_type": "execute_result"
    }
   ],
   "source": [
    "frist_non_zero_index_of_ab"
   ]
  },
  {
   "cell_type": "code",
   "execution_count": 25,
   "metadata": {},
   "outputs": [],
   "source": [
    "sequences_in_b_only = []\n",
    "for i in range(frist_non_zero_index_of_ab):\n",
    "    sequences_in_b_only.append(tcrb_count_map_b[i])\n",
    "    sorted_sequences_in_b_only = sorted(sequences_in_b_only)"
   ]
  },
  {
   "cell_type": "code",
   "execution_count": 26,
   "metadata": {},
   "outputs": [],
   "source": [
    "for i, s in enumerate(sorted_sequences_in_b_only):\n",
    "    tcrb_count_map_b[i] = s"
   ]
  },
  {
   "cell_type": "code",
   "execution_count": 27,
   "metadata": {},
   "outputs": [
    {
     "data": {
      "image/png": "[encoded data removed]",
      "text/plain": [
       "<Figure size 1008x216 with 1 Axes>"
      ]
     },
     "metadata": {
      "needs_background": "light"
     },
     "output_type": "display_data"
    }
   ],
   "source": [
    "fig, ax = plt.subplots()\n",
    "plt.bar(tcrb_count_map_ab.keys(), tcrb_count_map_ab.values(), label=\"α+β set\", color=\"darkorange\",alpha=0.5,width=1.0)\n",
    "plt.bar(tcrb_count_map_b.keys(), tcrb_count_map_b.values(), label=\"β set\", color=\"indigo\", alpha=0.5,width=1.0)\n",
    "\n",
    "ax.grid(axis='y')\n",
    "plt.ylabel ('Count')\n",
    "plt.xlabel ('CDR3β (unique sequences)')\n",
    "plt.legend(loc=\"upper left\")\n",
    "plt.yscale('log',base=2) \n",
    "plt.title('CDR3β distribution')\n",
    "fig.savefig(FIGURE_BASE + \"beta-distribution.png\", bbox_inches='tight', dpi=300)\n",
    "fig.savefig(FIGURE_BASE + \"beta-distribution.svg\", bbox_inches='tight', dpi=300)"
   ]
  },
  {
   "cell_type": "markdown",
   "metadata": {},
   "source": [
    "### Peptide analysis"
   ]
  },
  {
   "cell_type": "code",
   "execution_count": 28,
   "metadata": {},
   "outputs": [],
   "source": [
    "import matplotlib.pyplot as plt\n",
    "plt.rcParams[\"figure.figsize\"] = (14,3)\n",
    "plt.rc('axes', axisbelow=True)\n",
    "SMALL_SIZE = 16\n",
    "MEDIUM_SIZE = 18\n",
    "BIGGER_SIZE = 24\n",
    "\n",
    "plt.rc('font', size=SMALL_SIZE)          # controls default text sizes\n",
    "plt.rc('axes', titlesize=SMALL_SIZE)     # fontsize of the axes title\n",
    "plt.rc('axes', labelsize=MEDIUM_SIZE)    # fontsize of the x and y labels\n",
    "plt.rc('xtick', labelsize=SMALL_SIZE)    # fontsize of the tick labels\n",
    "plt.rc('ytick', labelsize=SMALL_SIZE)    # fontsize of the tick labels\n",
    "plt.rc('legend', fontsize=SMALL_SIZE)    # legend fontsize\n",
    "plt.rc('figure', titlesize=BIGGER_SIZE)  # fontsize of the figure title\n",
    "peptide = set(ab_df.peptide.unique()).union(set(b_df.peptide.unique()))"
   ]
  },
  {
   "cell_type": "code",
   "execution_count": 29,
   "metadata": {},
   "outputs": [],
   "source": [
    "peptide_count_map_ab = {seq: 0 for seq in peptide}\n",
    "tmp = ab_df.peptide.value_counts().to_dict()\n",
    "for i in tmp.keys():\n",
    "    peptide_count_map_ab[i] += tmp[i]\n",
    "\n",
    "\n",
    "peptide_count_map_ab = {k: v for k, v in sorted(peptide_count_map_ab.items(), key=lambda item: item[1])}\n",
    "seq_id_map = {seq: i for i, seq in enumerate(peptide_count_map_ab.keys())}\n",
    "peptide_count_map_ab = {seq_id_map[seq]: count for seq, count in peptide_count_map_ab.items()}"
   ]
  },
  {
   "cell_type": "code",
   "execution_count": 30,
   "metadata": {},
   "outputs": [],
   "source": [
    "peptide_count_map_b = {seq: 0 for seq in peptide}\n",
    "tmp = b_df.peptide.value_counts().to_dict()\n",
    "for i in tmp.keys():\n",
    "    peptide_count_map_b[i] += tmp[i]\n",
    "\n",
    "\n",
    "peptide_count_map_b = {k: v for k, v in sorted(peptide_count_map_b.items(), key=lambda item: item[1])}\n",
    "peptide_count_map_b = {seq_id_map[seq]: count for seq, count in peptide_count_map_b.items()}"
   ]
  },
  {
   "cell_type": "code",
   "execution_count": 31,
   "metadata": {},
   "outputs": [
    {
     "data": {
      "image/png": "[encoded data removed]",
      "text/plain": [
       "<Figure size 1008x216 with 1 Axes>"
      ]
     },
     "metadata": {
      "needs_background": "light"
     },
     "output_type": "display_data"
    }
   ],
   "source": [
    "fig, ax = plt.subplots()\n",
    "plt.bar(peptide_count_map_b.keys(), peptide_count_map_b.values(), label=\"β set\", color=\"indigo\", alpha=0.5, width=1.0)\n",
    "plt.bar(peptide_count_map_ab.keys(), peptide_count_map_ab.values(), label=\"α+β set\", color=\"darkorange\", alpha=0.5, width=1.0)\n",
    "\n",
    "ax.grid(axis='y')\n",
    "plt.ylabel('Count')\n",
    "plt.xlabel('Peptides (unique sequences)')\n",
    "plt.legend(loc=\"upper left\")\n",
    "plt.yscale('log',base=10)\n",
    "plt.title('Peptide distribution')\n",
    "fig.savefig(FIGURE_BASE + \"peptide-distribution.png\", bbox_inches='tight', dpi=300)\n",
    "fig.savefig(FIGURE_BASE + \"peptide-distribution.svg\", bbox_inches='tight', dpi=300)"
   ]
  }
 ],
 "metadata": {
  "kernelspec": {
   "display_name": "Python 3",
   "language": "python",
   "name": "python3"
  },
  "language_info": {
   "codemirror_mode": {
    "name": "ipython",
    "version": 3
   },
   "file_extension": ".py",
   "mimetype": "text/x-python",
   "name": "python",
   "nbconvert_exporter": "python",
   "pygments_lexer": "ipython3",
   "version": "3.6.13"
  }
 },
 "nbformat": 4,
 "nbformat_minor": 4
}
