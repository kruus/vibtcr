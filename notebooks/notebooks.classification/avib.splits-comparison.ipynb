{
 "cells": [
  {
   "cell_type": "markdown",
   "id": "ce03739c",
   "metadata": {},
   "source": [
    "In this notebook, we compare the performance of the Attentive Variational Information Bottleneck on `α+β set`, `β set` and `α+β set + β set`."
   ]
  },
  {
   "cell_type": "code",
   "execution_count": 1,
   "id": "33509167",
   "metadata": {},
   "outputs": [
    {
     "name": "stderr",
     "output_type": "stream",
     "text": [
      "Using TensorFlow backend.\n"
     ]
    }
   ],
   "source": [
    "import pandas as pd\n",
    "import numpy as np\n",
    "from tqdm import tqdm\n",
    "from tqdm import trange\n",
    "import random\n",
    "import math\n",
    "from scipy import interp\n",
    "import statistics \n",
    "\n",
    "from sklearn.metrics import roc_auc_score, accuracy_score, precision_score, recall_score, f1_score, precision_recall_curve, roc_curve, auc\n",
    "from sklearn.ensemble import RandomForestClassifier\n",
    "from sklearn.model_selection import GridSearchCV, StratifiedKFold\n",
    "from sklearn.preprocessing import StandardScaler\n",
    "from sklearn.model_selection import train_test_split\n",
    "\n",
    "from matplotlib import collections\n",
    "from matplotlib import colors\n",
    "from numpy.random import normal"
   ]
  },
  {
   "cell_type": "code",
   "execution_count": 2,
   "id": "754d976a",
   "metadata": {},
   "outputs": [],
   "source": [
    "metrics = [\n",
    "    'AUROC',\n",
    "    'Accuracy',\n",
    "    #'Recall',\n",
    "    'Precision',\n",
    "    'F1 score',\n",
    "    'AUPR'\n",
    "]\n",
    "\n",
    "def pr_auc(y_true, y_prob):\n",
    "    precision, recall, thresholds = precision_recall_curve(y_true, y_prob)\n",
    "    pr_auc = auc(recall, precision)\n",
    "    return pr_auc\n",
    "\n",
    "def get_scores(y_true, y_prob, y_pred):\n",
    "    \"\"\"\n",
    "    Compute a df with all classification metrics and respective scores.\n",
    "    \"\"\"\n",
    "    \n",
    "    scores = [\n",
    "        roc_auc_score(y_true, y_prob),\n",
    "        accuracy_score(y_true, y_pred),\n",
    "        #recall_score(y_true, y_pred),\n",
    "        precision_score(y_true, y_pred),\n",
    "        f1_score(y_true, y_pred),\n",
    "        pr_auc(y_true, y_prob)\n",
    "    ]\n",
    "    \n",
    "    df = pd.DataFrame(data={'score': scores, 'metrics': metrics})\n",
    "    return df"
   ]
  },
  {
   "cell_type": "code",
   "execution_count": 3,
   "id": "acd479eb",
   "metadata": {},
   "outputs": [],
   "source": [
    "blosum50_20aa = {\n",
    "    'A': np.array((5,-2,-1,-2,-1,-1,-1,0,-2,-1,-2,-1,-1,-3,-1,1,0,-3,-2,0)),\n",
    "    'R': np.array((-2,7,-1,-2,-4,1,0,-3,0,-4,-3,3,-2,-3,-3,-1,-1,-3,-1,-3)),\n",
    "    'N': np.array((-1,-1,7,2,-2,0,0,0,1,-3,-4,0,-2,-4,-2,1,0,-4,-2,-3)),\n",
    "    'D': np.array((-2,-2,2,8,-4,0,2,-1,-1,-4,-4,-1,-4,-5,-1,0,-1,-5,-3,-4)),\n",
    "    'C': np.array((-1,-4,-2,-4,13,-3,-3,-3,-3,-2,-2,-3,-2,-2,-4,-1,-1,-5,-3,-1)),\n",
    "    'Q': np.array((-1,1,0,0,-3,7,2,-2,1,-3,-2,2,0,-4,-1,0,-1,-1,-1,-3)),\n",
    "    'E': np.array((-1,0,0,2,-3,2,6,-3,0,-4,-3,1,-2,-3,-1,-1,-1,-3,-2,-3)),\n",
    "    'G': np.array((0,-3,0,-1,-3,-2,-3,8,-2,-4,-4,-2,-3,-4,-2,0,-2,-3,-3,-4)),\n",
    "    'H': np.array((-2,0,1,-1,-3,1,0,-2,10,-4,-3,0,-1,-1,-2,-1,-2,-3,2,-4)),\n",
    "    'I': np.array((-1,-4,-3,-4,-2,-3,-4,-4,-4,5,2,-3,2,0,-3,-3,-1,-3,-1,4)),\n",
    "    'L': np.array((-2,-3,-4,-4,-2,-2,-3,-4,-3,2,5,-3,3,1,-4,-3,-1,-2,-1,1)),\n",
    "    'K': np.array((-1,3,0,-1,-3,2,1,-2,0,-3,-3,6,-2,-4,-1,0,-1,-3,-2,-3)),\n",
    "    'M': np.array((-1,-2,-2,-4,-2,0,-2,-3,-1,2,3,-2,7,0,-3,-2,-1,-1,0,1)),\n",
    "    'F': np.array((-3,-3,-4,-5,-2,-4,-3,-4,-1,0,1,-4,0,8,-4,-3,-2,1,4,-1)),\n",
    "    'P': np.array((-1,-3,-2,-1,-4,-1,-1,-2,-2,-3,-4,-1,-3,-4,10,-1,-1,-4,-3,-3)),\n",
    "    'S': np.array((1,-1,1,0,-1,0,-1,0,-1,-3,-3,0,-2,-3,-1,5,2,-4,-2,-2)),\n",
    "    'T': np.array((0,-1,0,-1,-1,-1,-1,-2,-2,-1,-1,-1,-1,-2,-1,2,5,-3,-2,0)),\n",
    "    'W': np.array((-3,-3,-4,-5,-5,-1,-3,-3,-3,-3,-2,-3,-1,1,-4,-4,-3,15,2,-3)),\n",
    "    'Y': np.array((-2,-1,-2,-3,-3,-1,-2,-3,2,-1,-1,-2,0,4,-3,-2,-2,2,8,-1)),\n",
    "    'V': np.array((0,-3,-3,-4,-1,-3,-3,-4,-4,4,1,-3,1,-1,-3,-2,0,-3,-1,5))\n",
    "}\n",
    "\n",
    "def enc_list_bl_max_len(aas, blosum, max_seq_len):\n",
    "    '''\n",
    "    blosum encoding of a list of amino acid sequences with padding \n",
    "    to a max length\n",
    "\n",
    "    parameters:\n",
    "        - aa_seqs : list with AA sequences\n",
    "        - blosum : dictionary: key= AA, value= blosum encoding\n",
    "        - max_seq_len: common length for padding\n",
    "    returns:\n",
    "        padded_aa_encoding : array of padded amino acids encoding\n",
    "    '''\n",
    "    encoding_len = len(blosum['A'])\n",
    "    padded_aa_encoding = np.zeros((encoding_len * max_seq_len))\n",
    "    \n",
    "    # encode amino acids\n",
    "    for i, aa in enumerate(aas):\n",
    "        padded_aa_encoding[i*encoding_len:(i+1)*encoding_len] = blosum[aa]\n",
    "        \n",
    "    return padded_aa_encoding"
   ]
  },
  {
   "cell_type": "code",
   "execution_count": 4,
   "id": "29bd3cfb",
   "metadata": {},
   "outputs": [],
   "source": [
    "from scipy.stats import logistic\n",
    "\n",
    "def sigmoid(x):\n",
    "    return logistic.cdf(x)"
   ]
  },
  {
   "cell_type": "code",
   "execution_count": 5,
   "id": "6b01496a",
   "metadata": {},
   "outputs": [],
   "source": [
    "import os\n",
    "login = os.getlogin( )\n",
    "DATA_BASE = f\"/home/{login}/Git/tcr/data/\"\n",
    "RESULTS_BASE = f\"/home/{login}/Git/tcr/notebooks/notebooks.classification/results/\""
   ]
  },
  {
   "cell_type": "code",
   "execution_count": 8,
   "id": "029b7efc",
   "metadata": {},
   "outputs": [],
   "source": [
    "import os\n",
    "login = os.getlogin( )\n",
    "RESULTS_BASE = f\"/home/{login}/Git/tcr/notebooks/notebooks.classification/results/\"\n",
    "FIGURES_BASE = f\"/home/{login}/Git/tcr/notebooks/notebooks.classification/figures/\"\n",
    "\n",
    "predictions_files = [\n",
    "    ('AVIB | peptide+β | α+β set', [pd.read_csv(RESULTS_BASE + f\"mvib.bimodal.aoe.alpha+beta-only.rep-{i}.csv\") for i in range(5)]),\n",
    "    ('AVIB | peptide+α+β | α+β set', [pd.read_csv(RESULTS_BASE + f\"mvib.trimodal.aoe.alpha+beta-only.rep-{i}.csv\") for i in range(5)]),\n",
    "    ('AVIB | peptide+β | β set', [pd.read_csv(RESULTS_BASE + f\"mvib.bimodal.aoe.beta-only.rep-{i}.csv\") for i in range(5)]),\n",
    "    ('AVIB | peptide+β | α+β set + β set', [pd.read_csv(RESULTS_BASE + f\"mvib.bimodal.aoe.full.rep-{i}.csv\") for i in range(5)]),\n",
    "]"
   ]
  },
  {
   "cell_type": "code",
   "execution_count": 9,
   "id": "81e3233b",
   "metadata": {},
   "outputs": [
    {
     "name": "stderr",
     "output_type": "stream",
     "text": [
      "100%|██████████| 5/5 [00:00<00:00,  5.68it/s]\n"
     ]
    },
    {
     "data": {
      "image/png": "[encoded data removed]",
      "text/plain": [
       "<Figure size 720x432 with 1 Axes>"
      ]
     },
     "metadata": {
      "needs_background": "light"
     },
     "output_type": "display_data"
    }
   ],
   "source": [
    "import seaborn as sns\n",
    "import matplotlib.pyplot as plt\n",
    "\n",
    "\n",
    "results = []\n",
    "\n",
    "for i in tqdm(range(5)):\n",
    "    for predictions_file in predictions_files:\n",
    "        prediction_df = predictions_file[1][i]\n",
    "        if f'prediction_{i}' in prediction_df.columns:\n",
    "            if \"LUPI-SVM\" in predictions_file[0]:\n",
    "                scores_df = get_scores(\n",
    "                    y_true=prediction_df['sign'].to_numpy(), \n",
    "                    y_prob=sigmoid(prediction_df[f'prediction_{i}'].to_numpy()),\n",
    "                    y_pred=np.sign(prediction_df[f'prediction_{i}'].to_numpy().round()).clip(min=0),\n",
    "                )\n",
    "            else:\n",
    "                scores_df = get_scores(\n",
    "                    y_true=prediction_df['sign'].to_numpy(), \n",
    "                    y_prob=prediction_df[f'prediction_{i}'].to_numpy(),\n",
    "                    y_pred=prediction_df[f'prediction_{i}'].to_numpy().round(),\n",
    "                )\n",
    "            scores_df['Model'] = predictions_file[0]\n",
    "            results.append(scores_df)\n",
    "        \n",
    "results_df = pd.concat(results).rename(columns={'metrics': 'Metrics', 'score': 'Score'})\n",
    "\n",
    "plt.rcParams['figure.figsize'] = [10, 6]\n",
    "ax = sns.barplot(\n",
    "    x=\"Metrics\",\n",
    "    y=\"Score\", \n",
    "    hue=\"Model\", \n",
    "    data=results_df,\n",
    "    palette=sns.color_palette(\"magma\", len(predictions_files))\n",
    ")\n",
    "ax.set_title('TCR recognition | AVIB | Splits comparison')\n",
    "# ax.legend(loc='center left', bbox_to_anchor=(1, 0.5))\n",
    "ax.legend(loc='best')\n",
    "legend = plt.legend(frameon = 1)\n",
    "frame = legend.get_frame()\n",
    "frame.set_facecolor('white')\n",
    "ax.grid(axis='y')\n",
    "\n",
    "plt.savefig(FIGURES_BASE + \"baseline.splits-comparison.svg\", format='svg', dpi=300, bbox_inches='tight')\n",
    "plt.savefig(FIGURES_BASE + \"baseline.splits-comparison.png\", format='png', dpi=300, bbox_inches='tight')"
   ]
  }
 ],
 "metadata": {
  "kernelspec": {
   "display_name": "Python 3",
   "language": "python",
   "name": "python3"
  },
  "language_info": {
   "codemirror_mode": {
    "name": "ipython",
    "version": 3
   },
   "file_extension": ".py",
   "mimetype": "text/x-python",
   "name": "python",
   "nbconvert_exporter": "python",
   "pygments_lexer": "ipython3",
   "version": "3.6.13"
  }
 },
 "nbformat": 4,
 "nbformat_minor": 5
}