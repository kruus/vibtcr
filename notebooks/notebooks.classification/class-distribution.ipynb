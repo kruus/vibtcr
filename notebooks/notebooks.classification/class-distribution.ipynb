{
 "cells": [
  {
   "cell_type": "code",
   "execution_count": null,
   "id": "44407386",
   "metadata": {},
   "outputs": [],
   "source": [
    "import pandas as pd\n",
    "import seaborn as sns\n",
    "import matplotlib.pyplot as plt\n",
    "import numpy as np\n",
    "import os\n",
    "\n",
    "login = os.getlogin()\n",
    "# Original paths assume checkout in some special location\n",
    "figures_dir = f'/home/{login}/Git/tcr/notebooks/notebooks.classification/figures'\n",
    "dataset_dir = f'/home/{login}/Git/tcr/data/' # containing e.g. alpha-beta-splits/alpha-beta.csv\n",
    "\n",
    "# To run in github checkout of vibtcr, after `unzip data.zip` ...\n",
    "figures_dir = './figures'\n",
    "dataset_dir = '../../data/'\n"
   ]
  },
  {
   "cell_type": "code",
   "execution_count": null,
   "id": "196edd2a",
   "metadata": {},
   "outputs": [],
   "source": [
    "SMALL_SIZE = 16\n",
    "MEDIUM_SIZE = 18\n",
    "BIGGER_SIZE = 20\n",
    "\n",
    "plt.rc('font', size=SMALL_SIZE)          # controls default text sizes\n",
    "plt.rc('axes', titlesize=SMALL_SIZE)     # fontsize of the axes title\n",
    "plt.rc('axes', labelsize=MEDIUM_SIZE)    # fontsize of the x and y labels\n",
    "plt.rc('xtick', labelsize=SMALL_SIZE)    # fontsize of the tick labels\n",
    "plt.rc('ytick', labelsize=SMALL_SIZE)    # fontsize of the tick labels\n",
    "plt.rc('legend', fontsize=SMALL_SIZE)    # legend fontsize\n",
    "plt.rc('figure', titlesize=BIGGER_SIZE)  # fontsize of the figure title"
   ]
  },
  {
   "cell_type": "code",
   "execution_count": null,
   "id": "59acbbb1",
   "metadata": {},
   "outputs": [],
   "source": [
    "def plot_hist(df, col, name):\n",
    "    \"\"\" Plot two histograms over the same possible values.\n",
    "    Sort by count according to the df_1 (positive samples).\n",
    "    If certain values are only present in df_2, then sort them too,\n",
    "    so that they appear sorted before the df_1 histogram begins.\n",
    "    \"\"\"\n",
    "    df_1 = df[df[\"label\"] == 1]\n",
    "    df_2 = df[df[\"label\"] == 0]\n",
    "\n",
    "    unique_seqs = set(df_1[col].unique()).union(set(df_2[col].unique()))\n",
    "    \n",
    "    seqs_count_map_1 = {seq: 0 for seq in unique_seqs}\n",
    "    tmp = df_1[col].value_counts().to_dict()\n",
    "    for i in tmp.keys():\n",
    "        seqs_count_map_1[i] += tmp[i]\n",
    "\n",
    "    seqs_count_map_1 = {k: v for k, v in sorted(seqs_count_map_1.items(), key=lambda item: item[1])}\n",
    "    seq_id_map = {seq: i for i, seq in enumerate(seqs_count_map_1.keys())}\n",
    "    seqs_count_map_1 = {seq_id_map[seq]: count for seq, count in seqs_count_map_1.items()}\n",
    "    \n",
    "    seqs_count_map_2 = {seq: 0 for seq in unique_seqs}\n",
    "    tmp = df_2[col].value_counts().to_dict()\n",
    "    for i in tmp.keys():\n",
    "        seqs_count_map_2[i] += tmp[i]\n",
    "\n",
    "    seqs_count_map_2 = {k: v for k, v in sorted(seqs_count_map_2.items(), key=lambda item: item[1])}\n",
    "    seqs_count_map_2 = {seq_id_map[seq]: count for seq, count in seqs_count_map_2.items()}\n",
    "    \n",
    "    for i in seqs_count_map_1.keys():\n",
    "        frist_non_zero_index_of_1 = i\n",
    "        first_non_zero_1 = seqs_count_map_1[i]\n",
    "        if first_non_zero_1 > 0:\n",
    "            break\n",
    "    \n",
    "    if frist_non_zero_index_of_1 > 0:\n",
    "        sequences_in_2_only = []\n",
    "        for i in range(frist_non_zero_index_of_1):\n",
    "            sequences_in_2_only.append(seqs_count_map_2[i])\n",
    "            sorted_sequences_in_2_only = sorted(sequences_in_2_only)\n",
    "\n",
    "        for i, s in enumerate(sorted_sequences_in_2_only):\n",
    "            seqs_count_map_2[i] = s\n",
    "    \n",
    "    print(\"Plotting...\")\n",
    "    fig, ax = plt.subplots()\n",
    "    plt.bar(seqs_count_map_2.keys(), seqs_count_map_2.values(), label=\"Non-binding\", color=\"darkorange\", alpha=0.5,width=1.0)\n",
    "    plt.bar(seqs_count_map_1.keys(), seqs_count_map_1.values(), label=\"Binding\", color=\"indigo\",alpha=0.5,width=1.0)\n",
    "\n",
    "    ax.grid(axis='y')\n",
    "    plt.ylabel ('Count')\n",
    "    plt.xlabel (f'{name} (unique sequences)')\n",
    "    plt.legend(loc=\"upper left\")\n",
    "    plt.yscale('log') \n",
    "    plt.title(f'{name} distribution')\n",
    "    ax.set_axisbelow(True)\n",
    "    return fig, ax"
   ]
  },
  {
   "cell_type": "markdown",
   "id": "bb262e89",
   "metadata": {},
   "source": [
    "# Pep + CDR3b + CDR3a"
   ]
  },
  {
   "cell_type": "code",
   "execution_count": null,
   "id": "e0986964",
   "metadata": {},
   "outputs": [],
   "source": [
    "dataset_path = os.path.join(dataset_dir,\"alpha-beta-splits\",\"alpha-beta.csv\")\n",
    "ds = pd.read_csv(dataset_path)\n",
    "ds = ds.rename(columns={'tcra':'cdr3.alpha', 'tcrb': 'cdr3.beta', 'peptide': 'antigen.epitope', 'sign':'label'})"
   ]
  },
  {
   "cell_type": "code",
   "execution_count": null,
   "id": "f09c4e7a",
   "metadata": {},
   "outputs": [],
   "source": [
    "df_pep_b_a = ds[[\"antigen.epitope\", \"cdr3.beta\", \"cdr3.alpha\", \"label\"]].dropna().copy()\n",
    "\n",
    "sns.set_palette('magma', 3)\n",
    "sequences = df_pep_b_a[\"antigen.epitope\"].to_list() + df_pep_b_a[\"cdr3.beta\"].to_list() + df_pep_b_a[\"cdr3.alpha\"].to_list()\n",
    "label = ['Peptide']*len(df_pep_b_a) + ['CDR3β']*len(df_pep_b_a) + ['CDR3α']*len(df_pep_b_a)\n",
    "\n",
    "df = pd.DataFrame({'Sequence': sequences, 'Molecule type': label})\n",
    "df['Chain length (amino acids)'] = df['Sequence'].apply(lambda x: len(x))\n",
    "plot = sns.catplot(data=df, y='Chain length (amino acids)', x='Molecule type', kind='violin')\n",
    "plot.fig.suptitle(\"Peptide + CDR3α + CDR3β\", y=1.04)\n",
    "plt.ylim([0, 36])\n",
    "# plt.savefig(figures_dir + \"alpha-beta-set.violins.pep+cdr3b+cdr3a.svg\", format='svg', dpi=300, bbox_inches='tight')\n",
    "plt.savefig(os.path.join(figures_dir,\"alpha-beta-set.violins.pep+cdr3b+cdr3a.png\"), format='png', dpi=300, bbox_inches='tight')"
   ]
  },
  {
   "cell_type": "code",
   "execution_count": null,
   "id": "4506f821",
   "metadata": {},
   "outputs": [],
   "source": [
    "fig, ax = plot_hist(df_pep_b_a, \"antigen.epitope\", \"Peptides\")\n",
    "# plt.savefig(figures_dir + \"alpha-beta-set.hist.pep+cdr3b+cdr3a.pep.svg\", format='svg', dpi=300, bbox_inches='tight')\n",
    "plt.savefig(os.path.join(figures_dir,\"alpha-beta-set.hist.pep+cdr3b+cdr3a.pep.png\"), format='png', dpi=300, bbox_inches='tight')"
   ]
  },
  {
   "cell_type": "code",
   "execution_count": null,
   "id": "61e51ae1",
   "metadata": {},
   "outputs": [],
   "source": [
    "fig, ax = plot_hist(df_pep_b_a, \"cdr3.beta\", \"CDR3β \")\n",
    "# plt.savefig(figures_dir + \"alpha-beta-set.hist.pep+cdr3b+cdr3a.cdr3b.svg\", format='svg', dpi=300, bbox_inches='tight')\n",
    "plt.savefig(os.path.join(figures_dir,\"alpha-beta-set.hist.pep+cdr3b+cdr3a.cdr3b.png\"), format='png', dpi=300, bbox_inches='tight')"
   ]
  },
  {
   "cell_type": "code",
   "execution_count": null,
   "id": "26307c31",
   "metadata": {},
   "outputs": [],
   "source": [
    "fig, ax = plot_hist(df_pep_b_a, \"cdr3.alpha\", \"CDR3α\")\n",
    "# plt.savefig(figures_dir + \"alpha-beta-set.hist.pep+cdr3b+cdr3a.cdr3a.svg\", format='svg', dpi=300, bbox_inches='tight')\n",
    "plt.savefig(os.path.join(figures_dir,\"alpha-beta-set.hist.pep+cdr3b+cdr3a.cdr3a.png\"), format='png', dpi=300, bbox_inches='tight')"
   ]
  },
  {
   "cell_type": "markdown",
   "id": "d3f61a6e",
   "metadata": {},
   "source": [
    "# Pep + CDR3b"
   ]
  },
  {
   "cell_type": "code",
   "execution_count": null,
   "id": "96709378",
   "metadata": {},
   "outputs": [],
   "source": [
    "#dataset_path = f'/home/{login}/Git/tcr/data/alpha-beta-splits/beta.csv'\n",
    "dataset_path = os.path.join(dataset_dir,\"alpha-beta-splits/beta.csv\")\n",
    "ds = pd.read_csv(dataset_path)\n",
    "ds = ds.rename(columns={ 'tcrb': 'cdr3.beta', 'peptide': 'antigen.epitope', 'sign':'label'})"
   ]
  },
  {
   "cell_type": "code",
   "execution_count": null,
   "id": "334f1fa2",
   "metadata": {},
   "outputs": [],
   "source": [
    "df_pep_b = ds[[\"antigen.epitope\", \"cdr3.beta\", \"label\"]].dropna().copy()\n",
    "\n",
    "sns.set_palette('magma', 2)\n",
    "sequences = df_pep_b[\"antigen.epitope\"].to_list() + df_pep_b[\"cdr3.beta\"].to_list()\n",
    "label = ['Peptide']*len(df_pep_b) + ['CDR3β']*len(df_pep_b)\n",
    "\n",
    "df = pd.DataFrame({'Sequence': sequences, 'Molecule type': label})\n",
    "df['Chain length (amino acids)'] = df['Sequence'].apply(lambda x: len(x))\n",
    "plot = sns.catplot(data=df, y='Chain length (amino acids)', x='Molecule type', kind='violin')\n",
    "plot.fig.suptitle(\"Peptide + CDR3α\", y=1.04)\n",
    "plt.ylim([0, 36])\n",
    "# plt.savefig(figures_dir + \"beta-set.violins.pep+cdr3b+cdr3a.svg\", format='svg', dpi=300, bbox_inches='tight')\n",
    "plt.savefig(os.path.join(figures_dir,\"beta-set.violins.pep+cdr3b+cdr3a.png\"), format='png', dpi=300, bbox_inches='tight')"
   ]
  },
  {
   "cell_type": "code",
   "execution_count": null,
   "id": "f4be98de",
   "metadata": {},
   "outputs": [],
   "source": [
    "fig, ax = plot_hist(df_pep_b, \"antigen.epitope\", \"Peptides\")\n",
    "# plt.savefig(figures_dir + \"beta-set.hist.pep+cdr3b+cdr3a.pep.svg\", format='svg', dpi=300, bbox_inches='tight')\n",
    "plt.savefig(os.path.join(figures_dir,\"beta-set.hist.pep+cdr3b+cdr3a.pep.png\"), format='png', dpi=300, bbox_inches='tight')"
   ]
  },
  {
   "cell_type": "code",
   "execution_count": null,
   "id": "dbd5f127",
   "metadata": {},
   "outputs": [],
   "source": [
    "fig, ax = plot_hist(df_pep_b, \"cdr3.beta\", \"CDR3β \")\n",
    "# plt.savefig(figures_dir + \"beta-set.hist.pep+cdr3b+cdr3a.cdr3b.svg\", format='svg', dpi=300, bbox_inches='tight')\n",
    "plt.savefig(os.path.join(figures_dir,\"beta-set.hist.pep+cdr3b+cdr3a.cdr3b.png\"), format='png', dpi=300, bbox_inches='tight')"
   ]
  },
  {
   "cell_type": "code",
   "execution_count": null,
   "id": "849d51d4-1d8a-481e-8623-589aef11c026",
   "metadata": {},
   "outputs": [],
   "source": []
  }
 ],
 "metadata": {
  "kernelspec": {
   "display_name": "Python [conda env:vibtcr]",
   "language": "python",
   "name": "conda-env-vibtcr-py"
  },
  "language_info": {
   "codemirror_mode": {
    "name": "ipython",
    "version": 3
   },
   "file_extension": ".py",
   "mimetype": "text/x-python",
   "name": "python",
   "nbconvert_exporter": "python",
   "pygments_lexer": "ipython3",
   "version": "3.9.18"
  }
 },
 "nbformat": 4,
 "nbformat_minor": 5
}
