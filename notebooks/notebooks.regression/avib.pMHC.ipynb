{
 "cells": [
  {
   "cell_type": "markdown",
   "id": "808e2dcc",
   "metadata": {},
   "source": [
    "# peptide-MHC binding affinity regression\n",
    "\n",
    "In this notebook, we train and test the Attentive Variational Information Bottleneck on peptide+MHC class II data to predict binding affinity. We also do experiments with the baseline and ablation methods.\n",
    "\n",
    "Run dataset.pMHC.ipynb to prepare the input data. *data/mhc/NetMHCIIpan_train/netmhcIIpan4.csv*"
   ]
  },
  {
   "cell_type": "code",
   "execution_count": 1,
   "id": "2fdd9626",
   "metadata": {
    "execution": {
     "iopub.execute_input": "2023-10-19T20:00:06.179296Z",
     "iopub.status.busy": "2023-10-19T20:00:06.178310Z",
     "iopub.status.idle": "2023-10-19T20:00:07.752763Z",
     "shell.execute_reply": "2023-10-19T20:00:07.754104Z"
    }
   },
   "outputs": [],
   "source": [
    "import pandas as pd\n",
    "import torch\n",
    "import numpy as np\n",
    "import random\n",
    "\n",
    "from vibtcr.dataset import TCRDataset\n",
    "from vibtcr.mvib.mvib import MVIB\n",
    "from vibtcr.mvib.mvib_trainer import TrainerMVIB\n",
    "\n",
    "from torch.utils.data.sampler import WeightedRandomSampler\n",
    "from sklearn.model_selection import train_test_split\n",
    "from tqdm import tqdm"
   ]
  },
  {
   "cell_type": "code",
   "execution_count": 2,
   "id": "aa957077",
   "metadata": {
    "execution": {
     "iopub.execute_input": "2023-10-19T20:00:07.760787Z",
     "iopub.status.busy": "2023-10-19T20:00:07.759805Z",
     "iopub.status.idle": "2023-10-19T20:00:07.761891Z",
     "shell.execute_reply": "2023-10-19T20:00:07.762689Z"
    }
   },
   "outputs": [],
   "source": [
    "from sklearn.metrics import mean_squared_error, mean_absolute_error, r2_score\n",
    "import pandas as pd\n",
    "import torch\n",
    "\n",
    "metrics = ['MSE', 'RMSE', 'R2']\n",
    "\n",
    "def get_scores(y_true, y_pred):\n",
    "    \"\"\"\n",
    "    Compute a df with all regression metrics and respective scores.\n",
    "    \"\"\"\n",
    "    \n",
    "    scores = [\n",
    "        mean_squared_error(y_true, y_pred),\n",
    "        mean_absolute_error(y_true, y_pred),\n",
    "        r2_score(y_true, y_pred),\n",
    "    ]\n",
    "    \n",
    "    df = pd.DataFrame(data={'score': scores, 'metrics': metrics})\n",
    "    return df"
   ]
  },
  {
   "cell_type": "code",
   "execution_count": 3,
   "id": "314146e0",
   "metadata": {
    "execution": {
     "iopub.execute_input": "2023-10-19T20:00:07.768307Z",
     "iopub.status.busy": "2023-10-19T20:00:07.766853Z",
     "iopub.status.idle": "2023-10-19T20:00:07.771031Z",
     "shell.execute_reply": "2023-10-19T20:00:07.770183Z"
    }
   },
   "outputs": [],
   "source": [
    "def set_random_seed(random_seed):\n",
    "    random.seed(random_seed)\n",
    "    np.random.seed(random_seed)\n",
    "    torch.manual_seed(random_seed)\n",
    "    torch.cuda.manual_seed(random_seed)\n",
    "    torch.cuda.manual_seed_all(random_seed)\n"
   ]
  },
  {
   "cell_type": "code",
   "execution_count": 4,
   "id": "133637c4",
   "metadata": {
    "execution": {
     "iopub.execute_input": "2023-10-19T20:00:07.776086Z",
     "iopub.status.busy": "2023-10-19T20:00:07.774497Z",
     "iopub.status.idle": "2023-10-19T20:00:07.779143Z",
     "shell.execute_reply": "2023-10-19T20:00:07.778251Z"
    }
   },
   "outputs": [],
   "source": [
    "import os\n",
    "import pandas as pd\n",
    "login = os.getlogin( )\n",
    "#DATA_ROOT = f\"/home/{login}/Git/tcr/data/mhc/NetMHCIIpan_train/\"\n",
    "#RESULTS_BASE = f\"/home/{login}/Git/tcr/notebooks/notebooks.regression/results/\"\n",
    "# To run in github checkout of vibtcr, after `unzip data.zip` ...\n",
    "RESULTS_BASE = os.path.join('.', 'results')\n",
    "#FIGURES_BASE = os.path.join('.', 'figures')\n",
    "DATA_BASE = os.path.join('..', '..', 'data','mhc','NetMHCIIpan_train')"
   ]
  },
  {
   "cell_type": "code",
   "execution_count": 5,
   "id": "a04b4a78",
   "metadata": {
    "execution": {
     "iopub.execute_input": "2023-10-19T20:00:07.784148Z",
     "iopub.status.busy": "2023-10-19T20:00:07.782653Z",
     "iopub.status.idle": "2023-10-19T20:00:07.787300Z",
     "shell.execute_reply": "2023-10-19T20:00:07.786451Z"
    }
   },
   "outputs": [],
   "source": [
    "device = torch.device('cuda:1')\n",
    "\n",
    "batch_size = 8192\n",
    "epochs = 1000\n",
    "lr = 1e-3\n",
    "\n",
    "z_dim = 150\n",
    "early_stopper_patience = 30\n",
    "monitor = 'loss'\n",
    "lr_scheduler_param = 10\n",
    "loss = \"mse\"\n",
    "\n",
    "beta = 1e-6"
   ]
  },
  {
   "cell_type": "markdown",
   "id": "9794a7f3",
   "metadata": {},
   "source": [
    "# PoE"
   ]
  },
  {
   "cell_type": "code",
   "execution_count": 6,
   "id": "77f5b486",
   "metadata": {
    "execution": {
     "iopub.execute_input": "2023-10-19T20:00:07.799415Z",
     "iopub.status.busy": "2023-10-19T20:00:07.798397Z",
     "iopub.status.idle": "2023-10-19T21:30:50.130902Z",
     "shell.execute_reply": "2023-10-19T21:30:50.131310Z"
    }
   },
   "outputs": [
    {
     "name": "stderr",
     "output_type": "stream",
     "text": [
      "[VAL] Best epoch 411 | Best val score 0.025509 | DKL-prior 0.000181 | MSE 0.025328 |:  44%|████▍     | 440/1000 [18:44<23:50,  2.56s/it]\n"
     ]
    },
    {
     "name": "stdout",
     "output_type": "stream",
     "text": [
      "Saving best model: epoch 411\n"
     ]
    },
    {
     "name": "stderr",
     "output_type": "stream",
     "text": [
      "[VAL] Best epoch 336 | Best val score 0.025809 | DKL-prior 0.000173 | MSE 0.025636 |:  36%|███▋      | 365/1000 [15:33<27:03,  2.56s/it]\n"
     ]
    },
    {
     "name": "stdout",
     "output_type": "stream",
     "text": [
      "Saving best model: epoch 336\n"
     ]
    },
    {
     "name": "stderr",
     "output_type": "stream",
     "text": [
      "[VAL] Best epoch 410 | Best val score 0.025608 | DKL-prior 0.000181 | MSE 0.025427 |:  44%|████▍     | 439/1000 [18:48<24:01,  2.57s/it]\n"
     ]
    },
    {
     "name": "stdout",
     "output_type": "stream",
     "text": [
      "Saving best model: epoch 410\n"
     ]
    },
    {
     "name": "stderr",
     "output_type": "stream",
     "text": [
      "[VAL] Best epoch 336 | Best val score 0.026140 | DKL-prior 0.000171 | MSE 0.025970 |:  36%|███▋      | 365/1000 [15:38<27:12,  2.57s/it]\n"
     ]
    },
    {
     "name": "stdout",
     "output_type": "stream",
     "text": [
      "Saving best model: epoch 336\n"
     ]
    },
    {
     "name": "stderr",
     "output_type": "stream",
     "text": [
      "[VAL] Best epoch 468 | Best val score 0.026004 | DKL-prior 0.000187 | MSE 0.025817 |:  50%|████▉     | 497/1000 [21:06<21:22,  2.55s/it]\n"
     ]
    },
    {
     "name": "stdout",
     "output_type": "stream",
     "text": [
      "Saving best model: epoch 468\n"
     ]
    }
   ],
   "source": [
    "joint_posterior = \"poe\"\n",
    "df = pd.read_csv(os.path.join(DATA_BASE, 'netmhcIIpan4.csv'))\n",
    "\n",
    "for i in range(5):  # 5 independent train/test splits\n",
    "    set_random_seed(i)\n",
    "\n",
    "    df_train, df_test = train_test_split(df.copy(), test_size=0.2, random_state=i)\n",
    "\n",
    "    scaler = TCRDataset(df_train.copy(), torch.device(\"cpu\"), cdr3b_col='mhc',\n",
    "                        cdr3a_col=None, gt_col='BA').scaler\n",
    "\n",
    "    ds_test = TCRDataset(df_test, torch.device(\"cpu\"), cdr3b_col='mhc',\n",
    "                         cdr3a_col=None, scaler=scaler, gt_col='BA')\n",
    "\n",
    "    df_train, df_val = train_test_split(df_train, test_size=0.2, random_state=i)\n",
    "        \n",
    "    # train loader with balanced sampling\n",
    "    ds_train = TCRDataset(df_train, device, cdr3b_col='mhc',\n",
    "                          cdr3a_col=None, scaler=scaler, gt_col='BA')\n",
    "    train_loader = torch.utils.data.DataLoader(\n",
    "        ds_train,\n",
    "        batch_size=batch_size,\n",
    "        shuffle=True\n",
    "    )\n",
    "    \n",
    "    # val loader with balanced sampling\n",
    "    ds_val = TCRDataset(df_val, device, cdr3b_col='mhc',\n",
    "                        cdr3a_col=None, scaler=scaler, gt_col='BA')\n",
    "    val_loader = torch.utils.data.DataLoader(\n",
    "        ds_val,\n",
    "        batch_size=batch_size,\n",
    "        shuffle=True\n",
    "    )\n",
    "\n",
    "    model = MVIB(z_dim=z_dim, device=device, joint_posterior=joint_posterior).to(device)\n",
    "\n",
    "    trainer = TrainerMVIB(\n",
    "        model,\n",
    "        epochs=epochs,\n",
    "        lr=lr,\n",
    "        beta=beta,\n",
    "        checkpoint_dir=\".\",\n",
    "        mode=\"bimodal\",\n",
    "        lr_scheduler_param=lr_scheduler_param,\n",
    "        loss=loss\n",
    "    )\n",
    "    checkpoint = trainer.train(train_loader, val_loader, early_stopper_patience, monitor)    \n",
    "    run_name = f\"mvib.{joint_posterior}.pMHC.rep-{i}\"\n",
    "    trainer.save_checkpoint(checkpoint, folder='./', filename=os.path.join(RESULTS_BASE, f\"{run_name}.pth\"))\n",
    "    \n",
    "    # test (why on cpu?)\n",
    "    model = MVIB.from_checkpoint(checkpoint, torch.device(\"cpu\"))\n",
    "    pred = model.classify(pep=ds_test.pep, cdr3b=ds_test.cdr3b, cdr3a=None)\n",
    "    pred = pred.detach().numpy()\n",
    "    df_test['prediction_'+str(i)] = pred.squeeze().tolist()\n",
    "\n",
    "    # save results for further analysis\n",
    "    df_test.to_csv(\n",
    "        os.path.join(RESULTS_BASE, f\"{run_name}.csv\"),\n",
    "        index=False\n",
    "    )"
   ]
  },
  {
   "cell_type": "markdown",
   "id": "22b6c4fc",
   "metadata": {},
   "source": [
    "# AoE"
   ]
  },
  {
   "cell_type": "code",
   "execution_count": 7,
   "id": "3822b4b4",
   "metadata": {
    "execution": {
     "iopub.execute_input": "2023-10-19T21:30:50.134261Z",
     "iopub.status.busy": "2023-10-19T21:30:50.133806Z",
     "iopub.status.idle": "2023-10-19T21:30:50.136136Z",
     "shell.execute_reply": "2023-10-19T21:30:50.135672Z"
    }
   },
   "outputs": [],
   "source": [
    "joint_posterior = \"aoe\""
   ]
  },
  {
   "cell_type": "code",
   "execution_count": 8,
   "id": "fc9eeb2c",
   "metadata": {
    "execution": {
     "iopub.execute_input": "2023-10-19T21:30:50.143150Z",
     "iopub.status.busy": "2023-10-19T21:30:50.137931Z",
     "iopub.status.idle": "2023-10-19T22:42:31.445773Z",
     "shell.execute_reply": "2023-10-19T22:42:31.445452Z"
    }
   },
   "outputs": [
    {
     "name": "stderr",
     "output_type": "stream",
     "text": [
      "[VAL] Best epoch 329 | Best val score 0.024496 | DKL-prior 0.000252 | MSE 0.024245 |:  36%|███▌      | 358/1000 [17:22<31:08,  2.91s/it]\n"
     ]
    },
    {
     "name": "stdout",
     "output_type": "stream",
     "text": [
      "Saving best model: epoch 329\n"
     ]
    },
    {
     "name": "stderr",
     "output_type": "stream",
     "text": [
      "[VAL] Best epoch 289 | Best val score 0.024881 | DKL-prior 0.000212 | MSE 0.024669 |:  32%|███▏      | 318/1000 [15:25<33:04,  2.91s/it]\n"
     ]
    },
    {
     "name": "stdout",
     "output_type": "stream",
     "text": [
      "Saving best model: epoch 289\n"
     ]
    },
    {
     "name": "stderr",
     "output_type": "stream",
     "text": [
      "[VAL] Best epoch 184 | Best val score 0.025436 | DKL-prior 0.000238 | MSE 0.025199 |:  21%|██▏       | 213/1000 [10:18<38:06,  2.91s/it]\n"
     ]
    },
    {
     "name": "stdout",
     "output_type": "stream",
     "text": [
      "Saving best model: epoch 184\n"
     ]
    },
    {
     "name": "stderr",
     "output_type": "stream",
     "text": [
      "[VAL] Best epoch 282 | Best val score 0.025344 | DKL-prior 0.000206 | MSE 0.025138 |:  31%|███       | 311/1000 [14:57<33:07,  2.88s/it]\n"
     ]
    },
    {
     "name": "stdout",
     "output_type": "stream",
     "text": [
      "Saving best model: epoch 282\n"
     ]
    },
    {
     "name": "stderr",
     "output_type": "stream",
     "text": [
      "[VAL] Best epoch 240 | Best val score 0.026203 | DKL-prior 0.000255 | MSE 0.025947 |:  27%|██▋       | 269/1000 [12:52<34:59,  2.87s/it]\n"
     ]
    },
    {
     "name": "stdout",
     "output_type": "stream",
     "text": [
      "Saving best model: epoch 240\n"
     ]
    }
   ],
   "source": [
    "df = pd.read_csv(os.path.join(DATA_BASE, 'netmhcIIpan4.csv'))\n",
    "\n",
    "for i in range(5):  # 5 independent train/test splits\n",
    "    set_random_seed(i)\n",
    "\n",
    "    df_train, df_test = train_test_split(df.copy(), test_size=0.2, random_state=i)\n",
    "\n",
    "    scaler = TCRDataset(df_train.copy(), torch.device(\"cpu\"), cdr3b_col='mhc', cdr3a_col=None, gt_col='BA').scaler\n",
    "\n",
    "    ds_test = TCRDataset(df_test, torch.device(\"cpu\"), cdr3b_col='mhc', cdr3a_col=None, scaler=scaler, gt_col='BA')\n",
    "\n",
    "    df_train, df_val = train_test_split(df_train, test_size=0.2, random_state=i)\n",
    "        \n",
    "    # train loader with balanced sampling\n",
    "    ds_train = TCRDataset(df_train, device, cdr3b_col='mhc', cdr3a_col=None, scaler=scaler, gt_col='BA')\n",
    "    train_loader = torch.utils.data.DataLoader(\n",
    "        ds_train,\n",
    "        batch_size=batch_size,\n",
    "        shuffle=True\n",
    "    )\n",
    "    \n",
    "    # val loader with balanced sampling\n",
    "    ds_val = TCRDataset(df_val, device, cdr3b_col='mhc', cdr3a_col=None, scaler=scaler, gt_col='BA')\n",
    "    val_loader = torch.utils.data.DataLoader(\n",
    "        ds_val,\n",
    "        batch_size=batch_size,\n",
    "        shuffle=True\n",
    "    )\n",
    "\n",
    "    model = MVIB(z_dim=z_dim, device=device, joint_posterior=joint_posterior).to(device)\n",
    "\n",
    "    trainer = TrainerMVIB(\n",
    "        model,\n",
    "        epochs=epochs,\n",
    "        lr=lr,\n",
    "        beta=beta,\n",
    "        checkpoint_dir=\".\",\n",
    "        mode=\"bimodal\",\n",
    "        lr_scheduler_param=lr_scheduler_param,\n",
    "        loss=loss\n",
    "    )\n",
    "    checkpoint = trainer.train(train_loader, val_loader, early_stopper_patience, monitor)    \n",
    "    run_name = f\"mvib.{joint_posterior}.pMHC.rep-{i}\"\n",
    "    trainer.save_checkpoint(checkpoint, folder='./', filename=os.path.join(RESULTS_BASE, f\"{run_name}.pth\"))\n",
    "    \n",
    "    # test\n",
    "    model = MVIB.from_checkpoint(checkpoint, torch.device(\"cpu\"))\n",
    "    pred = model.classify(pep=ds_test.pep, cdr3b=ds_test.cdr3b, cdr3a=None)\n",
    "    pred = pred.detach().numpy()\n",
    "    df_test['prediction_'+str(i)] = pred.squeeze().tolist()\n",
    "\n",
    "    # save results for further analysis\n",
    "    df_test.to_csv(\n",
    "        os.path.join(RESULTS_BASE, f\"{run_name}.csv\"),\n",
    "        index=False\n",
    "    )"
   ]
  },
  {
   "cell_type": "markdown",
   "id": "e2f91524",
   "metadata": {},
   "source": [
    "# Average Pooling of Experts"
   ]
  },
  {
   "cell_type": "code",
   "execution_count": 9,
   "id": "0c158f83",
   "metadata": {
    "execution": {
     "iopub.execute_input": "2023-10-19T22:42:31.448298Z",
     "iopub.status.busy": "2023-10-19T22:42:31.447980Z",
     "iopub.status.idle": "2023-10-19T22:42:31.449536Z",
     "shell.execute_reply": "2023-10-19T22:42:31.449817Z"
    }
   },
   "outputs": [],
   "source": [
    "joint_posterior = \"avg_pool\""
   ]
  },
  {
   "cell_type": "code",
   "execution_count": 10,
   "id": "9b1b0962",
   "metadata": {
    "execution": {
     "iopub.execute_input": "2023-10-19T22:42:31.454737Z",
     "iopub.status.busy": "2023-10-19T22:42:31.451063Z",
     "iopub.status.idle": "2023-10-20T00:24:51.596943Z",
     "shell.execute_reply": "2023-10-20T00:24:51.596496Z"
    }
   },
   "outputs": [
    {
     "name": "stderr",
     "output_type": "stream",
     "text": [
      "[VAL] Best epoch 599 | Best val score 0.026412 | DKL-prior 0.000303 | MSE 0.026109 |:  63%|██████▎   | 628/1000 [26:03<15:26,  2.49s/it]\n"
     ]
    },
    {
     "name": "stdout",
     "output_type": "stream",
     "text": [
      "Saving best model: epoch 599\n"
     ]
    },
    {
     "name": "stderr",
     "output_type": "stream",
     "text": [
      "[VAL] Best epoch 377 | Best val score 0.027039 | DKL-prior 0.000259 | MSE 0.026780 |:  41%|████      | 406/1000 [16:50<24:38,  2.49s/it]\n"
     ]
    },
    {
     "name": "stdout",
     "output_type": "stream",
     "text": [
      "Saving best model: epoch 377\n"
     ]
    },
    {
     "name": "stderr",
     "output_type": "stream",
     "text": [
      "[VAL] Best epoch 365 | Best val score 0.027153 | DKL-prior 0.000252 | MSE 0.026901 |:  39%|███▉      | 394/1000 [16:18<25:04,  2.48s/it]\n"
     ]
    },
    {
     "name": "stdout",
     "output_type": "stream",
     "text": [
      "Saving best model: epoch 365\n"
     ]
    },
    {
     "name": "stderr",
     "output_type": "stream",
     "text": [
      "[VAL] Best epoch 487 | Best val score 0.027152 | DKL-prior 0.000279 | MSE 0.026873 |:  52%|█████▏    | 516/1000 [21:22<20:03,  2.49s/it]\n"
     ]
    },
    {
     "name": "stdout",
     "output_type": "stream",
     "text": [
      "Saving best model: epoch 487\n"
     ]
    },
    {
     "name": "stderr",
     "output_type": "stream",
     "text": [
      "[VAL] Best epoch 480 | Best val score 0.027323 | DKL-prior 0.000280 | MSE 0.027043 |:  51%|█████     | 509/1000 [21:05<20:21,  2.49s/it]\n"
     ]
    },
    {
     "name": "stdout",
     "output_type": "stream",
     "text": [
      "Saving best model: epoch 480\n"
     ]
    }
   ],
   "source": [
    "df = pd.read_csv(os.path.join(DATA_BASE, 'netmhcIIpan4.csv'))\n",
    "\n",
    "for i in range(5):  # 5 independent train/test splits\n",
    "    set_random_seed(i)\n",
    "\n",
    "    df_train, df_test = train_test_split(df.copy(), test_size=0.2, random_state=i)\n",
    "\n",
    "    scaler = TCRDataset(df_train.copy(), torch.device(\"cpu\"), cdr3b_col='mhc', cdr3a_col=None, gt_col='BA').scaler\n",
    "\n",
    "    ds_test = TCRDataset(df_test, torch.device(\"cpu\"), cdr3b_col='mhc', cdr3a_col=None, scaler=scaler, gt_col='BA')\n",
    "\n",
    "    df_train, df_val = train_test_split(df_train, test_size=0.2, random_state=i)\n",
    "        \n",
    "    # train loader with balanced sampling\n",
    "    ds_train = TCRDataset(df_train, device, cdr3b_col='mhc', cdr3a_col=None, scaler=scaler, gt_col='BA')\n",
    "    train_loader = torch.utils.data.DataLoader(\n",
    "        ds_train,\n",
    "        batch_size=batch_size,\n",
    "        shuffle=True\n",
    "    )\n",
    "    \n",
    "    # val loader with balanced sampling\n",
    "    ds_val = TCRDataset(df_val, device, cdr3b_col='mhc', cdr3a_col=None, scaler=scaler, gt_col='BA')\n",
    "    val_loader = torch.utils.data.DataLoader(\n",
    "        ds_val,\n",
    "        batch_size=batch_size,\n",
    "        shuffle=True\n",
    "    )\n",
    "\n",
    "    model = MVIB(z_dim=z_dim, device=device, joint_posterior=joint_posterior).to(device)\n",
    "\n",
    "    trainer = TrainerMVIB(\n",
    "        model,\n",
    "        epochs=epochs,\n",
    "        lr=lr,\n",
    "        beta=beta,\n",
    "        checkpoint_dir=\".\",\n",
    "        mode=\"bimodal\",\n",
    "        lr_scheduler_param=lr_scheduler_param,\n",
    "        loss=loss\n",
    "    )\n",
    "    checkpoint = trainer.train(train_loader, val_loader, early_stopper_patience, monitor)\n",
    "    # unfortunately, the trainer did not auto-save the models.\n",
    "    run_name = f\"mvib.{joint_posterior}.pMHC.rep-{i}\"\n",
    "    trainer.save_checkpoint(checkpoint, folder='./', filename=os.path.join(RESULTS_BASE, f\"{run_name}.pth\"))\n",
    "    \n",
    "    # test\n",
    "    model = MVIB.from_checkpoint(checkpoint, torch.device(\"cpu\"))\n",
    "    pred = model.classify(pep=ds_test.pep, cdr3b=ds_test.cdr3b, cdr3a=None)\n",
    "    pred = pred.detach().numpy()\n",
    "    df_test['prediction_'+str(i)] = pred.squeeze().tolist()\n",
    "\n",
    "    # save results for further analysis\n",
    "    df_test.to_csv(\n",
    "        os.path.join(RESULTS_BASE, f\"{run_name}.csv\"),\n",
    "        index=False\n",
    "    )"
   ]
  },
  {
   "cell_type": "markdown",
   "id": "8b51a2d4",
   "metadata": {},
   "source": [
    "# Max Pooling of Experts"
   ]
  },
  {
   "cell_type": "code",
   "execution_count": 11,
   "id": "dd266049",
   "metadata": {
    "execution": {
     "iopub.execute_input": "2023-10-20T00:24:51.599689Z",
     "iopub.status.busy": "2023-10-20T00:24:51.599352Z",
     "iopub.status.idle": "2023-10-20T00:24:51.601139Z",
     "shell.execute_reply": "2023-10-20T00:24:51.601419Z"
    }
   },
   "outputs": [],
   "source": [
    "joint_posterior = \"max_pool\""
   ]
  },
  {
   "cell_type": "code",
   "execution_count": 12,
   "id": "c62d12c1",
   "metadata": {
    "execution": {
     "iopub.execute_input": "2023-10-20T00:24:51.609441Z",
     "iopub.status.busy": "2023-10-20T00:24:51.608282Z",
     "iopub.status.idle": "2023-10-20T01:00:06.411773Z",
     "shell.execute_reply": "2023-10-20T01:00:06.412050Z"
    }
   },
   "outputs": [
    {
     "name": "stderr",
     "output_type": "stream",
     "text": [
      "[VAL] Best epoch 156 | Best val score 0.033577 | DKL-prior 0.000188 | MSE 0.033389 |:  18%|█▊        | 185/1000 [08:13<36:16,  2.67s/it]\n"
     ]
    },
    {
     "name": "stdout",
     "output_type": "stream",
     "text": [
      "Saving best model: epoch 156\n"
     ]
    },
    {
     "name": "stderr",
     "output_type": "stream",
     "text": [
      "[VAL] Best epoch 139 | Best val score 0.035237 | DKL-prior 0.000188 | MSE 0.035050 |:  17%|█▋        | 168/1000 [07:27<36:58,  2.67s/it]\n"
     ]
    },
    {
     "name": "stdout",
     "output_type": "stream",
     "text": [
      "Saving best model: epoch 139\n"
     ]
    },
    {
     "name": "stderr",
     "output_type": "stream",
     "text": [
      "[VAL] Best epoch 111 | Best val score 0.034921 | DKL-prior 0.000184 | MSE 0.034738 |:  14%|█▍        | 140/1000 [06:13<38:14,  2.67s/it]\n"
     ]
    },
    {
     "name": "stdout",
     "output_type": "stream",
     "text": [
      "Saving best model: epoch 111\n"
     ]
    },
    {
     "name": "stderr",
     "output_type": "stream",
     "text": [
      "[VAL] Best epoch 77 | Best val score 0.034794 | DKL-prior 0.000177 | MSE 0.034617 |:  11%|█         | 106/1000 [04:44<39:55,  2.68s/it]\n"
     ]
    },
    {
     "name": "stdout",
     "output_type": "stream",
     "text": [
      "Saving best model: epoch 77\n"
     ]
    },
    {
     "name": "stderr",
     "output_type": "stream",
     "text": [
      "[VAL] Best epoch 149 | Best val score 0.033970 | DKL-prior 0.000198 | MSE 0.033772 |:  18%|█▊        | 178/1000 [07:56<36:40,  2.68s/it]\n"
     ]
    },
    {
     "name": "stdout",
     "output_type": "stream",
     "text": [
      "Saving best model: epoch 149\n"
     ]
    }
   ],
   "source": [
    "df = pd.read_csv(os.path.join(DATA_BASE, 'netmhcIIpan4.csv'))\n",
    "\n",
    "for i in range(5):  # 5 independent train/test splits\n",
    "    set_random_seed(i)\n",
    "\n",
    "    df_train, df_test = train_test_split(df.copy(), test_size=0.2, random_state=i)\n",
    "\n",
    "    scaler = TCRDataset(df_train.copy(), torch.device(\"cpu\"), cdr3b_col='mhc', cdr3a_col=None, gt_col='BA').scaler\n",
    "\n",
    "    ds_test = TCRDataset(df_test, torch.device(\"cpu\"), cdr3b_col='mhc', cdr3a_col=None, scaler=scaler, gt_col='BA')\n",
    "\n",
    "    df_train, df_val = train_test_split(df_train, test_size=0.2, random_state=i)\n",
    "        \n",
    "    # train loader with balanced sampling\n",
    "    ds_train = TCRDataset(df_train, device, cdr3b_col='mhc', cdr3a_col=None, scaler=scaler, gt_col='BA')\n",
    "    train_loader = torch.utils.data.DataLoader(\n",
    "        ds_train,\n",
    "        batch_size=batch_size,\n",
    "        shuffle=True\n",
    "    )\n",
    "    \n",
    "    # val loader with balanced sampling\n",
    "    ds_val = TCRDataset(df_val, device, cdr3b_col='mhc', cdr3a_col=None, scaler=scaler, gt_col='BA')\n",
    "    val_loader = torch.utils.data.DataLoader(\n",
    "        ds_val,\n",
    "        batch_size=batch_size,\n",
    "        shuffle=True\n",
    "    )\n",
    "\n",
    "    model = MVIB(z_dim=z_dim, device=device, joint_posterior=joint_posterior).to(device)\n",
    "\n",
    "    trainer = TrainerMVIB(\n",
    "        model,\n",
    "        epochs=epochs,\n",
    "        lr=lr,\n",
    "        beta=beta,\n",
    "        checkpoint_dir=\".\",\n",
    "        mode=\"bimodal\",\n",
    "        lr_scheduler_param=lr_scheduler_param,\n",
    "        loss=loss\n",
    "    )\n",
    "    checkpoint = trainer.train(train_loader, val_loader, early_stopper_patience, monitor)    \n",
    "    run_name = f\"mvib.{joint_posterior}.pMHC.rep-{i}\"\n",
    "    trainer.save_checkpoint(checkpoint, folder='./',\n",
    "                            filename=os.path.join(RESULTS_BASE, f\"{run_name}.pth\"))\n",
    "    \n",
    "    # test\n",
    "    model = MVIB.from_checkpoint(checkpoint, torch.device(\"cpu\"))\n",
    "    pred = model.classify(pep=ds_test.pep, cdr3b=ds_test.cdr3b, cdr3a=None)\n",
    "    pred = pred.detach().numpy()\n",
    "    df_test['prediction_'+str(i)] = pred.squeeze().tolist()\n",
    "\n",
    "    # save results for further analysis\n",
    "    df_test.to_csv(\n",
    "        os.path.join(RESULTS_BASE, f\"{run_name}.csv\"),\n",
    "        index=False\n",
    "    )"
   ]
  },
  {
   "cell_type": "code",
   "execution_count": 13,
   "id": "3bd77d59",
   "metadata": {
    "execution": {
     "iopub.execute_input": "2023-10-20T01:00:06.417826Z",
     "iopub.status.busy": "2023-10-20T01:00:06.413617Z",
     "iopub.status.idle": "2023-10-20T01:00:06.645770Z",
     "shell.execute_reply": "2023-10-20T01:00:06.644808Z"
    }
   },
   "outputs": [],
   "source": [
    "#RESULTS_BASE = f\"/home/{login}/Git/tcr/notebooks/notebooks.regression/results/\"\n",
    "#FIGURES_BASE = f\"/home/{login}/Git/tcr/notebooks/notebooks.regression/figures/\"\n",
    "# To run in github checkout of vibtcr, after `unzip data.zip` ...\n",
    "RESULTS_BASE = os.path.join('.', 'results')\n",
    "FIGURES_BASE = os.path.join('.', 'figures')\n",
    "#DATA_BASE = os.path.join('..', '..', 'data')\n",
    "predictions_files = [\n",
    "    ('MVIB',      [pd.read_csv(os.path.join(RESULTS_BASE, f\"mvib.poe.pMHC.rep-{i}.csv\")) for i in range(5)]),\n",
    "    ('AvgPOOLoE', [pd.read_csv(os.path.join(RESULTS_BASE, f\"mvib.avg_pool.pMHC.rep-{i}.csv\")) for i in range(5)]),\n",
    "    ('MaxPOOLeE', [pd.read_csv(os.path.join(RESULTS_BASE, f\"mvib.max_pool.pMHC.rep-{i}.csv\")) for i in range(5)]),\n",
    "    ('AVIB',      [pd.read_csv(os.path.join(RESULTS_BASE, f\"mvib.aoe.pMHC.rep-{i}.csv\")) for i in range(5)]),\n",
    "]"
   ]
  },
  {
   "cell_type": "code",
   "execution_count": 14,
   "id": "6fe86408",
   "metadata": {
    "execution": {
     "iopub.execute_input": "2023-10-20T01:00:06.651962Z",
     "iopub.status.busy": "2023-10-20T01:00:06.650807Z",
     "iopub.status.idle": "2023-10-20T01:00:06.689401Z",
     "shell.execute_reply": "2023-10-20T01:00:06.688966Z"
    }
   },
   "outputs": [
    {
     "name": "stderr",
     "output_type": "stream",
     "text": [
      "100%|██████████| 5/5 [00:00<00:00, 167.85it/s]\n"
     ]
    }
   ],
   "source": [
    "results = []\n",
    "\n",
    "for i in tqdm(range(5)):\n",
    "    for predictions_file in predictions_files:\n",
    "        prediction_df = predictions_file[1][i]\n",
    "        if f'prediction_{i}' in prediction_df.columns:\n",
    "            scores_df = get_scores(\n",
    "                y_true=prediction_df['BA'].to_numpy(), \n",
    "                y_pred=prediction_df[f'prediction_{i}'].to_numpy(),\n",
    "            )\n",
    "            scores_df['Model'] = predictions_file[0]\n",
    "            results.append(scores_df)\n",
    "        \n",
    "results_df = pd.concat(results).rename(columns={'metrics': 'Metrics', 'score': 'Score'})\n",
    "\n"
   ]
  },
  {
   "cell_type": "code",
   "execution_count": 15,
   "id": "fcafca82",
   "metadata": {
    "execution": {
     "iopub.execute_input": "2023-10-20T01:00:06.697842Z",
     "iopub.status.busy": "2023-10-20T01:00:06.697250Z",
     "iopub.status.idle": "2023-10-20T01:00:06.702813Z",
     "shell.execute_reply": "2023-10-20T01:00:06.703190Z"
    }
   },
   "outputs": [
    {
     "data": {
      "text/html": [
       "<div>\n",
       "<style scoped>\n",
       "    .dataframe tbody tr th:only-of-type {\n",
       "        vertical-align: middle;\n",
       "    }\n",
       "\n",
       "    .dataframe tbody tr th {\n",
       "        vertical-align: top;\n",
       "    }\n",
       "\n",
       "    .dataframe thead th {\n",
       "        text-align: right;\n",
       "    }\n",
       "</style>\n",
       "<table border=\"1\" class=\"dataframe\">\n",
       "  <thead>\n",
       "    <tr style=\"text-align: right;\">\n",
       "      <th></th>\n",
       "      <th></th>\n",
       "      <th>Score</th>\n",
       "    </tr>\n",
       "    <tr>\n",
       "      <th>Metrics</th>\n",
       "      <th>Model</th>\n",
       "      <th></th>\n",
       "    </tr>\n",
       "  </thead>\n",
       "  <tbody>\n",
       "    <tr>\n",
       "      <th rowspan=\"4\" valign=\"top\">MSE</th>\n",
       "      <th>AVIB</th>\n",
       "      <td>0.029553</td>\n",
       "    </tr>\n",
       "    <tr>\n",
       "      <th>AvgPOOLoE</th>\n",
       "      <td>0.031083</td>\n",
       "    </tr>\n",
       "    <tr>\n",
       "      <th>MVIB</th>\n",
       "      <td>0.030397</td>\n",
       "    </tr>\n",
       "    <tr>\n",
       "      <th>MaxPOOLeE</th>\n",
       "      <td>0.035646</td>\n",
       "    </tr>\n",
       "    <tr>\n",
       "      <th rowspan=\"4\" valign=\"top\">R2</th>\n",
       "      <th>AVIB</th>\n",
       "      <td>0.563701</td>\n",
       "    </tr>\n",
       "    <tr>\n",
       "      <th>AvgPOOLoE</th>\n",
       "      <td>0.541144</td>\n",
       "    </tr>\n",
       "    <tr>\n",
       "      <th>MVIB</th>\n",
       "      <td>0.551252</td>\n",
       "    </tr>\n",
       "    <tr>\n",
       "      <th>MaxPOOLeE</th>\n",
       "      <td>0.473784</td>\n",
       "    </tr>\n",
       "    <tr>\n",
       "      <th rowspan=\"4\" valign=\"top\">RMSE</th>\n",
       "      <th>AVIB</th>\n",
       "      <td>0.131189</td>\n",
       "    </tr>\n",
       "    <tr>\n",
       "      <th>AvgPOOLoE</th>\n",
       "      <td>0.136195</td>\n",
       "    </tr>\n",
       "    <tr>\n",
       "      <th>MVIB</th>\n",
       "      <td>0.134427</td>\n",
       "    </tr>\n",
       "    <tr>\n",
       "      <th>MaxPOOLeE</th>\n",
       "      <td>0.148554</td>\n",
       "    </tr>\n",
       "  </tbody>\n",
       "</table>\n",
       "</div>"
      ],
      "text/plain": [
       "                      Score\n",
       "Metrics Model              \n",
       "MSE     AVIB       0.029553\n",
       "        AvgPOOLoE  0.031083\n",
       "        MVIB       0.030397\n",
       "        MaxPOOLeE  0.035646\n",
       "R2      AVIB       0.563701\n",
       "        AvgPOOLoE  0.541144\n",
       "        MVIB       0.551252\n",
       "        MaxPOOLeE  0.473784\n",
       "RMSE    AVIB       0.131189\n",
       "        AvgPOOLoE  0.136195\n",
       "        MVIB       0.134427\n",
       "        MaxPOOLeE  0.148554"
      ]
     },
     "execution_count": 15,
     "metadata": {},
     "output_type": "execute_result"
    }
   ],
   "source": [
    "results_df.groupby(['Metrics', 'Model']).mean()"
   ]
  },
  {
   "cell_type": "code",
   "execution_count": 16,
   "id": "346f3092-b407-43c0-935f-dc2f99bbddce",
   "metadata": {
    "execution": {
     "iopub.execute_input": "2023-10-20T01:00:06.711773Z",
     "iopub.status.busy": "2023-10-20T01:00:06.711461Z",
     "iopub.status.idle": "2023-10-20T01:00:06.714237Z",
     "shell.execute_reply": "2023-10-20T01:00:06.713876Z"
    }
   },
   "outputs": [
    {
     "data": {
      "text/html": [
       "<div>\n",
       "<style scoped>\n",
       "    .dataframe tbody tr th:only-of-type {\n",
       "        vertical-align: middle;\n",
       "    }\n",
       "\n",
       "    .dataframe tbody tr th {\n",
       "        vertical-align: top;\n",
       "    }\n",
       "\n",
       "    .dataframe thead th {\n",
       "        text-align: right;\n",
       "    }\n",
       "</style>\n",
       "<table border=\"1\" class=\"dataframe\">\n",
       "  <thead>\n",
       "    <tr style=\"text-align: right;\">\n",
       "      <th></th>\n",
       "      <th></th>\n",
       "      <th>Score</th>\n",
       "    </tr>\n",
       "    <tr>\n",
       "      <th>Metrics</th>\n",
       "      <th>Model</th>\n",
       "      <th></th>\n",
       "    </tr>\n",
       "  </thead>\n",
       "  <tbody>\n",
       "    <tr>\n",
       "      <th rowspan=\"4\" valign=\"top\">MSE</th>\n",
       "      <th>AVIB</th>\n",
       "      <td>0.000062</td>\n",
       "    </tr>\n",
       "    <tr>\n",
       "      <th>AvgPOOLoE</th>\n",
       "      <td>0.000086</td>\n",
       "    </tr>\n",
       "    <tr>\n",
       "      <th>MVIB</th>\n",
       "      <td>0.000058</td>\n",
       "    </tr>\n",
       "    <tr>\n",
       "      <th>MaxPOOLeE</th>\n",
       "      <td>0.000152</td>\n",
       "    </tr>\n",
       "    <tr>\n",
       "      <th rowspan=\"4\" valign=\"top\">R2</th>\n",
       "      <th>AVIB</th>\n",
       "      <td>0.001160</td>\n",
       "    </tr>\n",
       "    <tr>\n",
       "      <th>AvgPOOLoE</th>\n",
       "      <td>0.001024</td>\n",
       "    </tr>\n",
       "    <tr>\n",
       "      <th>MVIB</th>\n",
       "      <td>0.000814</td>\n",
       "    </tr>\n",
       "    <tr>\n",
       "      <th>MaxPOOLeE</th>\n",
       "      <td>0.001970</td>\n",
       "    </tr>\n",
       "    <tr>\n",
       "      <th rowspan=\"4\" valign=\"top\">RMSE</th>\n",
       "      <th>AVIB</th>\n",
       "      <td>0.000165</td>\n",
       "    </tr>\n",
       "    <tr>\n",
       "      <th>AvgPOOLoE</th>\n",
       "      <td>0.000138</td>\n",
       "    </tr>\n",
       "    <tr>\n",
       "      <th>MVIB</th>\n",
       "      <td>0.000146</td>\n",
       "    </tr>\n",
       "    <tr>\n",
       "      <th>MaxPOOLeE</th>\n",
       "      <td>0.000439</td>\n",
       "    </tr>\n",
       "  </tbody>\n",
       "</table>\n",
       "</div>"
      ],
      "text/plain": [
       "                      Score\n",
       "Metrics Model              \n",
       "MSE     AVIB       0.000062\n",
       "        AvgPOOLoE  0.000086\n",
       "        MVIB       0.000058\n",
       "        MaxPOOLeE  0.000152\n",
       "R2      AVIB       0.001160\n",
       "        AvgPOOLoE  0.001024\n",
       "        MVIB       0.000814\n",
       "        MaxPOOLeE  0.001970\n",
       "RMSE    AVIB       0.000165\n",
       "        AvgPOOLoE  0.000138\n",
       "        MVIB       0.000146\n",
       "        MaxPOOLeE  0.000439"
      ]
     },
     "execution_count": 16,
     "metadata": {},
     "output_type": "execute_result"
    }
   ],
   "source": [
    "std_df = results_df.groupby(['Metrics', 'Model']).std()\n",
    "std_df['Score'] = std_df['Score'].apply(lambda x: x / 5) # Really?\n",
    "std_df"
   ]
  },
  {
   "cell_type": "code",
   "execution_count": 17,
   "id": "102dc548-a9b0-4b51-ba05-f701d8037670",
   "metadata": {
    "execution": {
     "iopub.execute_input": "2023-10-20T01:00:06.716247Z",
     "iopub.status.busy": "2023-10-20T01:00:06.715936Z",
     "iopub.status.idle": "2023-10-20T01:00:06.720011Z",
     "shell.execute_reply": "2023-10-20T01:00:06.719663Z"
    }
   },
   "outputs": [],
   "source": [
    "# TODO: matplotlib figures ?"
   ]
  }
 ],
 "metadata": {
  "kernelspec": {
   "display_name": "Python [conda env:vibtcr] *",
   "language": "python",
   "name": "conda-env-vibtcr-py"
  },
  "language_info": {
   "codemirror_mode": {
    "name": "ipython",
    "version": 3
   },
   "file_extension": ".py",
   "mimetype": "text/x-python",
   "name": "python",
   "nbconvert_exporter": "python",
   "pygments_lexer": "ipython3",
   "version": "3.9.18"
  }
 },
 "nbformat": 4,
 "nbformat_minor": 5
}
