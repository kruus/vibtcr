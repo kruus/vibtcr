{
 "cells": [
  {
   "cell_type": "markdown",
   "metadata": {},
   "source": [
    "## `Human MHC set` creation\n",
    "\n",
    "Create an OOD dataset with human peptides sampled from the ID Human TCR dataset.\n",
    "Add a randomly samples human MHC sequences in order to create (peptide, MHC) pairs.\n",
    "The pairs constitue the `Human MHC set`, which is a OOD set."
   ]
  },
  {
   "cell_type": "code",
   "execution_count": 11,
   "metadata": {},
   "outputs": [],
   "source": [
    "import pandas as pd\n",
    "import os\n",
    "login = os.getlogin( )\n",
    "\n",
    "DATA_BASE = f\"/home/{login}/Git/tcr/data/\"\n",
    "\n",
    "df_in = pd.concat([\n",
    "    pd.read_csv(DATA_BASE + 'alpha-beta-splits/alpha-beta.csv'),\n",
    "    pd.read_csv(DATA_BASE + 'alpha-beta-splits/beta.csv')\n",
    "    ])\n",
    "\n",
    "df_mhc_seq = pd.read_csv(DATA_BASE+'mhc/pseudosequence.2016.all.X.dat', sep='\\t')"
   ]
  },
  {
   "cell_type": "code",
   "execution_count": 12,
   "metadata": {},
   "outputs": [],
   "source": [
    "mhc = df_mhc_seq.sequence.unique()\n",
    "peptides = df_in.peptide.unique()"
   ]
  },
  {
   "cell_type": "code",
   "execution_count": 13,
   "metadata": {},
   "outputs": [],
   "source": [
    "from itertools import combinations, product\n",
    "\n",
    "def pairs(*lists):\n",
    "    pairs = []\n",
    "    for t in combinations(lists, 2):\n",
    "        for pair in product(*t):\n",
    "            pairs.append(pair)\n",
    "    return pairs\n",
    "\n",
    "pep_mhc_pairs = pairs(peptides, mhc)"
   ]
  },
  {
   "cell_type": "code",
   "execution_count": 22,
   "metadata": {},
   "outputs": [],
   "source": [
    "df_out = pd.DataFrame({\n",
    "    'peptide': [p[0] for p in pep_mhc_pairs],\n",
    "    'mhc': [p[1] for p in pep_mhc_pairs],\n",
    "    'sign': [1 for p in pep_mhc_pairs]\n",
    "})\n",
    "\n",
    "df_out = df_out[~df_out.mhc.str.contains(\"X\")]\n",
    "df_out = df_out[~df_out.peptide.str.contains(\"X\")]"
   ]
  },
  {
   "cell_type": "code",
   "execution_count": 23,
   "metadata": {},
   "outputs": [
    {
     "data": {
      "text/html": [
       "<div>\n",
       "<style scoped>\n",
       "    .dataframe tbody tr th:only-of-type {\n",
       "        vertical-align: middle;\n",
       "    }\n",
       "\n",
       "    .dataframe tbody tr th {\n",
       "        vertical-align: top;\n",
       "    }\n",
       "\n",
       "    .dataframe thead th {\n",
       "        text-align: right;\n",
       "    }\n",
       "</style>\n",
       "<table border=\"1\" class=\"dataframe\">\n",
       "  <thead>\n",
       "    <tr style=\"text-align: right;\">\n",
       "      <th></th>\n",
       "      <th>peptide</th>\n",
       "      <th>mhc</th>\n",
       "      <th>sign</th>\n",
       "    </tr>\n",
       "  </thead>\n",
       "  <tbody>\n",
       "    <tr>\n",
       "      <th>0</th>\n",
       "      <td>SSLENFRAYV</td>\n",
       "      <td>QEFFIASGAAVDAIMWLFLECYDLQRATYHVGFT</td>\n",
       "      <td>1</td>\n",
       "    </tr>\n",
       "    <tr>\n",
       "      <th>1</th>\n",
       "      <td>SSLENFRAYV</td>\n",
       "      <td>QEFFIASGAAVDAIMWLFLECYDLQRATYHAVFT</td>\n",
       "      <td>1</td>\n",
       "    </tr>\n",
       "    <tr>\n",
       "      <th>2</th>\n",
       "      <td>SSLENFRAYV</td>\n",
       "      <td>QEFFIASGAAVDAIMWLFLECYDIDEATYHVGFT</td>\n",
       "      <td>1</td>\n",
       "    </tr>\n",
       "    <tr>\n",
       "      <th>3</th>\n",
       "      <td>SSLENFRAYV</td>\n",
       "      <td>QEFFIASGAAVDAIMWLFLECYDLQRANYHVVFT</td>\n",
       "      <td>1</td>\n",
       "    </tr>\n",
       "    <tr>\n",
       "      <th>4</th>\n",
       "      <td>SSLENFRAYV</td>\n",
       "      <td>QEFFIASGAAVDAIMWLFLECYDLQAATYHVVFT</td>\n",
       "      <td>1</td>\n",
       "    </tr>\n",
       "  </tbody>\n",
       "</table>\n",
       "</div>"
      ],
      "text/plain": [
       "      peptide                                 mhc  sign\n",
       "0  SSLENFRAYV  QEFFIASGAAVDAIMWLFLECYDLQRATYHVGFT     1\n",
       "1  SSLENFRAYV  QEFFIASGAAVDAIMWLFLECYDLQRATYHAVFT     1\n",
       "2  SSLENFRAYV  QEFFIASGAAVDAIMWLFLECYDIDEATYHVGFT     1\n",
       "3  SSLENFRAYV  QEFFIASGAAVDAIMWLFLECYDLQRANYHVVFT     1\n",
       "4  SSLENFRAYV  QEFFIASGAAVDAIMWLFLECYDLQAATYHVVFT     1"
      ]
     },
     "execution_count": 23,
     "metadata": {},
     "output_type": "execute_result"
    }
   ],
   "source": [
    "df_out.head()"
   ]
  },
  {
   "cell_type": "code",
   "execution_count": 24,
   "metadata": {},
   "outputs": [
    {
     "data": {
      "text/plain": [
       "463684"
      ]
     },
     "execution_count": 24,
     "metadata": {},
     "output_type": "execute_result"
    }
   ],
   "source": [
    "len(df_out)"
   ]
  },
  {
   "cell_type": "code",
   "execution_count": 25,
   "metadata": {},
   "outputs": [],
   "source": [
    "df_out.to_csv(DATA_BASE+'/mhc/peptide-mhc.csv', index=False)"
   ]
  }
 ],
 "metadata": {
  "kernelspec": {
   "display_name": "Python 3",
   "language": "python",
   "name": "python3"
  },
  "language_info": {
   "codemirror_mode": {
    "name": "ipython",
    "version": 3
   },
   "file_extension": ".py",
   "mimetype": "text/x-python",
   "name": "python",
   "nbconvert_exporter": "python",
   "pygments_lexer": "ipython3",
   "version": "3.6.13"
  }
 },
 "nbformat": 4,
 "nbformat_minor": 4
}
